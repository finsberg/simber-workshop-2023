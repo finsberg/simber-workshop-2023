{
 "cells": [
  {
   "cell_type": "markdown",
   "id": "b6ca9c18",
   "metadata": {},
   "source": [
    "# Extracting a trace from the frames and analyze it\n",
    "\n",
    "In this session we will learn how go from the raw images to a trace that we later will analyze. First lets load some data"
   ]
  },
  {
   "cell_type": "code",
   "execution_count": null,
   "id": "9e9b0e5c",
   "metadata": {
    "tags": []
   },
   "outputs": [],
   "source": [
    "import mps\n",
    "from pathlib import Path\n",
    "\n",
    "# If you have already have some data you can use that, otherwise you can download some sample data\n",
    "path = Path(\"fl_data.npy\")\n",
    "\n",
    "\n",
    "def download_data():\n",
    "    print(\"Downloading data. Please wait...\")\n",
    "    link = \"https://www.dropbox.com/s/7piy9ghlv84nfg7/fl_data.npy?dl=1\"\n",
    "    import urllib.request\n",
    "    import time\n",
    "\n",
    "    urllib.request.urlretrieve(link, path)\n",
    "    time.sleep(1.0)\n",
    "    print(\"Done downloading data\")\n",
    "\n",
    "\n",
    "if not path.is_file():\n",
    "    download_data()\n",
    "\n",
    "data = mps.MPS(path)"
   ]
  },
  {
   "cell_type": "markdown",
   "id": "b8306e73",
   "metadata": {},
   "source": [
    "Now lets take a look at the info and the shape of the frames"
   ]
  },
  {
   "cell_type": "code",
   "execution_count": null,
   "id": "5338b397",
   "metadata": {
    "tags": []
   },
   "outputs": [],
   "source": [
    "print(f\"{data.frames.shape = }\")\n",
    "print(f\"{data.info = }\")"
   ]
  },
  {
   "cell_type": "markdown",
   "id": "22b7a4d6",
   "metadata": {},
   "source": [
    "## Plotting the first frame\n",
    "\n",
    "We note that the first and second dimension are spatial and the third dimension is temporal. This means that if we want to get the first frame, then we can access this by selecting all of the two first indices (using the `:` notation for slicing numpy arrays) and selecting the `0` index in the temporal dimension"
   ]
  },
  {
   "cell_type": "code",
   "execution_count": null,
   "id": "9dca6475",
   "metadata": {
    "tags": []
   },
   "outputs": [],
   "source": [
    "first_frame = data.frames[:, :, 0]"
   ]
  },
  {
   "cell_type": "markdown",
   "id": "9a84690d",
   "metadata": {},
   "source": [
    "Lets plot the first frame using `matplotlib`"
   ]
  },
  {
   "cell_type": "code",
   "execution_count": null,
   "id": "2db2f7f5",
   "metadata": {
    "tags": []
   },
   "outputs": [],
   "source": [
    "import matplotlib.pyplot as plt\n",
    "\n",
    "fig, ax = plt.subplots(figsize=(6, 10))\n",
    "ax.imshow(first_frame)\n",
    "ax.set_title(\"First frame\")"
   ]
  },
  {
   "cell_type": "markdown",
   "id": "c61e4598",
   "metadata": {},
   "source": [
    "We can also rotate the image 90 degrees by transposing the frame using the `.T` method on the array"
   ]
  },
  {
   "cell_type": "code",
   "execution_count": null,
   "id": "b1c730f9",
   "metadata": {},
   "outputs": [],
   "source": [
    "fig, ax = plt.subplots(figsize=(10, 6))\n",
    "ax.imshow(first_frame.T)\n",
    "ax.set_title(\"First frame (transposed)\")"
   ]
  },
  {
   "cell_type": "markdown",
   "id": "75e5f972",
   "metadata": {},
   "source": [
    "## Computing an average trace\n",
    "\n",
    "In order to get to a trace, we need to reduce each frame into a number so that we end up with an array of values for each time stamp. One way to do this is to average over the entire chip. For the first frame we can do this as follows"
   ]
  },
  {
   "cell_type": "code",
   "execution_count": null,
   "id": "9e35e5d0",
   "metadata": {},
   "outputs": [],
   "source": [
    "first_frame_mean_value = first_frame.mean()\n",
    "print(f\"{first_frame_mean_value = }\")"
   ]
  },
  {
   "cell_type": "markdown",
   "id": "9bc082ea",
   "metadata": {},
   "source": [
    "Now we would like to do this for each frame in `data.frames`. We could do this using a *for loop*, however, this will be quite inefficient. Since `data.frames` is a numpy array we can take the mean over the first two dimensions using the following code"
   ]
  },
  {
   "cell_type": "code",
   "execution_count": null,
   "id": "b4fed424",
   "metadata": {},
   "outputs": [],
   "source": [
    "y = data.frames.mean(axis=(0, 1))"
   ]
  },
  {
   "cell_type": "markdown",
   "id": "61feb64f",
   "metadata": {},
   "source": [
    "Here we pass in `axis=(0, 1)` to indicate that we should take the average over the first and second dimension.\n",
    "\n",
    "Lets plot the trace against the time stamps."
   ]
  },
  {
   "cell_type": "code",
   "execution_count": null,
   "id": "0dc525b4",
   "metadata": {},
   "outputs": [],
   "source": [
    "fig, ax = plt.subplots(figsize=(8, 4))\n",
    "ax.plot(data.time_stamps, y)\n",
    "ax.grid()\n",
    "ax.set_xlabel(\"Time [ms]\")\n",
    "ax.set_ylabel(\"Mean pixel intensity\")"
   ]
  },
  {
   "cell_type": "markdown",
   "id": "ee4369c6",
   "metadata": {},
   "source": [
    "Note the following:\n",
    "\n",
    "* The $y$-axis here is *mean pixel intensity*.\n",
    "    - These values are not in general related to the physical unit of the trace (i.e calcium concentration or voltage)\n",
    "    - This means that we cannot use features related to the magnitude of the trace, such as max and min values, but temporal values are valid\n",
    "* The baseline is drifting (decaying as a function of time).\n",
    "    - This due to photobleaching and we need to correct for this"
   ]
  },
  {
   "cell_type": "markdown",
   "id": "67d16387",
   "metadata": {},
   "source": [
    "### Exercise: Selecting a subset of the pixels for extracting an average trace\n",
    "\n",
    "In the above code we used all the pixels to compute the average however you could image that you only wanted to use the pixels where the tissue is, or even a smaller region. You can do this be finding the indices in the $x$ and $y$-direction. For example\n",
    "\n",
    "```python\n",
    "data.frames[400:600, 50:150, :]\n",
    "```\n",
    "will take out a region in (approximately) the center of the chip.\n",
    "\n",
    "* Try to perform the averaging over a smaller region, and plot the trace. Does the shape and amplitude change?"
   ]
  },
  {
   "cell_type": "markdown",
   "id": "f8eb50fd",
   "metadata": {},
   "source": [
    "## Removing the baseline\n",
    "\n",
    "The first thing we need to do is to remove the baseline so that the effect of photobleaching is removed. To do this we will use the `ap_features` package, by converting the trace into a `ap_features` object."
   ]
  },
  {
   "cell_type": "code",
   "execution_count": null,
   "id": "c4c0438d",
   "metadata": {},
   "outputs": [],
   "source": [
    "import ap_features as apf\n",
    "\n",
    "trace = apf.Beats(y=y, t=data.time_stamps)"
   ]
  },
  {
   "cell_type": "code",
   "execution_count": null,
   "id": "83d5eb8f",
   "metadata": {},
   "outputs": [],
   "source": [
    "trace.plot()"
   ]
  },
  {
   "cell_type": "markdown",
   "id": "3b994832",
   "metadata": {},
   "source": [
    "Well, this looks very similar to what we had before. When constructing this object we can also pass in another argument called `background_correction_method`."
   ]
  },
  {
   "cell_type": "code",
   "execution_count": null,
   "id": "b45a58fa",
   "metadata": {},
   "outputs": [],
   "source": [
    "trace = apf.Beats(y=y, t=data.time_stamps, background_correction_method=\"full\")\n",
    "trace.plot()"
   ]
  },
  {
   "cell_type": "markdown",
   "id": "3256f8ed",
   "metadata": {},
   "source": [
    "We now now see that the background is removed, and that the $y$-axis got different values. The correct label for the label would be $\\Delta F / F_0$. Lets explain what this mean. First we will plot the original trace with the baseline"
   ]
  },
  {
   "cell_type": "code",
   "execution_count": null,
   "id": "0dfe57c8",
   "metadata": {},
   "outputs": [],
   "source": [
    "fig, ax = plt.subplots()\n",
    "ax.plot(trace.t, trace.original_y, label=\"original trace\")\n",
    "ax.plot(trace.t, trace.background, label=\"background\")\n",
    "ax.legend()"
   ]
  },
  {
   "cell_type": "markdown",
   "id": "3539f727",
   "metadata": {},
   "source": [
    "Now, $F_0$ would be the first value in the estimated baseline"
   ]
  },
  {
   "cell_type": "code",
   "execution_count": null,
   "id": "2ead4bfd",
   "metadata": {},
   "outputs": [],
   "source": [
    "F_0 = trace.background[0]"
   ]
  },
  {
   "cell_type": "markdown",
   "id": "7e644ffa",
   "metadata": {},
   "source": [
    "and $\\Delta F$ would be the original trace minus the baseline"
   ]
  },
  {
   "cell_type": "code",
   "execution_count": null,
   "id": "fd1ea6e4",
   "metadata": {},
   "outputs": [],
   "source": [
    "delta_F = trace.original_y - trace.background"
   ]
  },
  {
   "cell_type": "code",
   "execution_count": null,
   "id": "9d121c86",
   "metadata": {},
   "outputs": [],
   "source": [
    "fig, ax = plt.subplots()\n",
    "ax.plot(trace.t, delta_F / F_0)"
   ]
  },
  {
   "cell_type": "markdown",
   "id": "60e08f68",
   "metadata": {},
   "source": [
    "### Exercise: Other types of background corrections\n",
    "Take a look at the documentation and see if you can find out which other background correction methods there is and try them out."
   ]
  },
  {
   "cell_type": "markdown",
   "id": "1e7a6483",
   "metadata": {},
   "source": [
    "## Chopping a trace into individual beats\n",
    "\n",
    "We have now a trace that we can work with, but in order to compute features such as action potential durations, we need to chop the trace into individual beats. With the `ap_features` package, this is pretty easy"
   ]
  },
  {
   "cell_type": "code",
   "execution_count": null,
   "id": "e88b0bc4",
   "metadata": {},
   "outputs": [],
   "source": [
    "beats = trace.beats\n",
    "\n",
    "print(f\"{beats = }\")"
   ]
  },
  {
   "cell_type": "markdown",
   "id": "30d4c8cb",
   "metadata": {},
   "source": [
    "Lets loop over all the beats and plot then with different colors"
   ]
  },
  {
   "cell_type": "code",
   "execution_count": null,
   "id": "39c06530",
   "metadata": {},
   "outputs": [],
   "source": [
    "fig, ax = plt.subplots()\n",
    "for beat in beats:\n",
    "    ax.plot(beat.t, beat.y)"
   ]
  },
  {
   "cell_type": "markdown",
   "id": "c955a218",
   "metadata": {},
   "source": [
    "As we can see, there are some gaps in the trace. This is due to the way the trace is chopped. There are two different algorithms for chopping the trace into individual beats. The first algorithm is used when we have pacing information available, in which case the algorithm will use the time of the pacing stimulus as a marker to chop. In this case we do not have this information and in this case the algorithm is a bit more complicated. You can read more about the algorithm in the `ap_features` documentation: https://computationalphysiology.github.io/ap_features/ap_features.html#ap_features.chopping.chop_data_without_pacing\n",
    "\n",
    "\n",
    "### Exercise: Changing the settings for chopping\n",
    "\n",
    "You might not be completely satisfied with the way the trace was chopped, and there are several options to chop the data into beats. When you create the trace you can also specify a set of options for chopping using the `chopping_options` argument, e.g"
   ]
  },
  {
   "cell_type": "code",
   "execution_count": null,
   "id": "3869a869",
   "metadata": {},
   "outputs": [],
   "source": [
    "fig, ax = plt.subplots()\n",
    "trace = apf.Beats(\n",
    "    y=y,\n",
    "    t=data.time_stamps,\n",
    "    background_correction_method=\"full\",\n",
    "    chopping_options={\"threshold_factor\": 0.3, \"extend_end\": 300, \"extend_front\": 100},\n",
    ")\n",
    "for beat in trace.beats:\n",
    "    ax.plot(beat.t, beat.y)"
   ]
  },
  {
   "cell_type": "markdown",
   "id": "a580b842",
   "metadata": {},
   "source": [
    "* Try to change the options for chopping, and see how it affects the results"
   ]
  },
  {
   "cell_type": "code",
   "execution_count": null,
   "id": "a986ca00",
   "metadata": {},
   "outputs": [],
   "source": [
    "# Use these beats instead\n",
    "beats = trace.beats"
   ]
  },
  {
   "cell_type": "markdown",
   "id": "98371144",
   "metadata": {},
   "source": [
    "## Analyzing a single beat\n",
    "\n",
    "Lets take a look at the second beat (since the first beats seems to still have some problems with the baseline)"
   ]
  },
  {
   "cell_type": "code",
   "execution_count": null,
   "id": "c6f6c9ec",
   "metadata": {},
   "outputs": [],
   "source": [
    "second_beat = beats[1]\n",
    "print(f\"{second_beat = }\")"
   ]
  },
  {
   "cell_type": "markdown",
   "id": "1ef0ef81",
   "metadata": {},
   "source": [
    "We can plot it"
   ]
  },
  {
   "cell_type": "code",
   "execution_count": null,
   "id": "27891067",
   "metadata": {},
   "outputs": [],
   "source": [
    "second_beat.plot()"
   ]
  },
  {
   "cell_type": "markdown",
   "id": "f262f0ef",
   "metadata": {},
   "source": [
    "Lets also take a look at the available methods by print the attributes that does not start with and underscore (or by typing `second_beat.` and hitting TAB)"
   ]
  },
  {
   "cell_type": "code",
   "execution_count": null,
   "id": "f328ac28",
   "metadata": {},
   "outputs": [],
   "source": [
    "import pprint"
   ]
  },
  {
   "cell_type": "code",
   "execution_count": null,
   "id": "0009aee7",
   "metadata": {},
   "outputs": [],
   "source": [
    "pprint.pprint([attr for attr in dir(second_beat) if not attr.startswith(\"_\")])"
   ]
  },
  {
   "cell_type": "markdown",
   "id": "7c583b39",
   "metadata": {},
   "source": [
    "### APD80"
   ]
  },
  {
   "cell_type": "markdown",
   "id": "f9d73bca",
   "metadata": {},
   "source": [
    "You will see that there are quite a lot of options here. For example to compute the APD80 you can do"
   ]
  },
  {
   "cell_type": "code",
   "execution_count": null,
   "id": "b6cb74b5",
   "metadata": {},
   "outputs": [],
   "source": [
    "APD80 = second_beat.apd(80)\n",
    "print(f\"{APD80 = :.2f} ms\")  # Also specify that we only want two decimals"
   ]
  },
  {
   "cell_type": "markdown",
   "id": "031ad652",
   "metadata": {},
   "source": [
    "If you want to know how the APD80 was computed, you can use the `apd_point` method which will return the first and second time point that intersects the APD80 line"
   ]
  },
  {
   "cell_type": "code",
   "execution_count": null,
   "id": "f28c2118",
   "metadata": {},
   "outputs": [],
   "source": [
    "APD80_point = second_beat.apd_point(80)\n",
    "print(f\"{APD80_point = }\")"
   ]
  },
  {
   "cell_type": "markdown",
   "id": "5bdb0770",
   "metadata": {},
   "source": [
    "And to get the APD80 value, you just subtract these numbers"
   ]
  },
  {
   "cell_type": "code",
   "execution_count": null,
   "id": "7dfccdf8",
   "metadata": {},
   "outputs": [],
   "source": [
    "print(f\"{APD80_point[1] - APD80_point[0] = :.2f}\")"
   ]
  },
  {
   "cell_type": "markdown",
   "id": "95608af7",
   "metadata": {},
   "source": [
    "#### Exercise: APD80 for each beat\n",
    "\n",
    "- Try to compute the APD80 for each beat. Do you need any big differences?"
   ]
  },
  {
   "cell_type": "markdown",
   "id": "61a05a3c",
   "metadata": {},
   "source": [
    "### Corrected APD80 (cAPD80)\n",
    "\n",
    "Another important feature is the corrected APD80, which is the APD80 value corrected for the beat rate. You can read more about the corrected apd here: https://computationalphysiology.github.io/ap_features/ap_features.html#ap_features.features.corrected_apd\n",
    "\n",
    "When computing the corrected APD you also need to know the beat rate, but this information can not be computed from a single beat - we need the entire trace. However, when chopping the trace into beats, all the beats also get a pointer to the parent trace that is stored in the attribute `parent`"
   ]
  },
  {
   "cell_type": "code",
   "execution_count": null,
   "id": "46fd0ca5",
   "metadata": {},
   "outputs": [],
   "source": [
    "second_beat.parent is trace"
   ]
  },
  {
   "cell_type": "markdown",
   "id": "2d54cf59",
   "metadata": {},
   "source": [
    "And the trace has an attribute called `beat_rate`"
   ]
  },
  {
   "cell_type": "code",
   "execution_count": null,
   "id": "da8a3f9a",
   "metadata": {},
   "outputs": [],
   "source": [
    "trace.beat_rate"
   ]
  },
  {
   "cell_type": "markdown",
   "id": "2062ce30",
   "metadata": {},
   "source": [
    "This will use the peak of each beat, and find the duration between each peak. The value stored in `trace.beat_rate` is the mean value of all of these beat rates. So see all the beat rates you can use the `.beat_rates` attribute"
   ]
  },
  {
   "cell_type": "code",
   "execution_count": null,
   "id": "22bdff70",
   "metadata": {},
   "outputs": [],
   "source": [
    "trace.beat_rates"
   ]
  },
  {
   "cell_type": "markdown",
   "id": "9db7edbb",
   "metadata": {},
   "source": [
    "A related concept is the beating frequency which each\n",
    "\n",
    "$$ \\text{beating frequency} = \\frac{\\text{beat rate}}{60}$$"
   ]
  },
  {
   "cell_type": "code",
   "execution_count": null,
   "id": "3ff9f478",
   "metadata": {},
   "outputs": [],
   "source": [
    "trace.beating_frequency"
   ]
  },
  {
   "cell_type": "markdown",
   "id": "04dc598b",
   "metadata": {},
   "source": [
    "And similarly we also have the individual beating frequencies"
   ]
  },
  {
   "cell_type": "code",
   "execution_count": null,
   "id": "da179bcc",
   "metadata": {},
   "outputs": [],
   "source": [
    "trace.beating_frequencies"
   ]
  },
  {
   "cell_type": "markdown",
   "id": "5a2eb294",
   "metadata": {},
   "source": [
    "Coming back to the corrected APD, we can compute this as a method each beat"
   ]
  },
  {
   "cell_type": "code",
   "execution_count": null,
   "id": "7111223a",
   "metadata": {},
   "outputs": [],
   "source": [
    "cAPD80 = second_beat.capd(80, formula=\"friderica\")\n",
    "print(f\"{cAPD80 = }\")"
   ]
  },
  {
   "cell_type": "markdown",
   "id": "de6b46bb",
   "metadata": {},
   "source": [
    "There are two formulas implemented for computing the corrected APD, the `friderica` formula and `bazett` check out the documentation for more info"
   ]
  },
  {
   "cell_type": "markdown",
   "id": "f02cb29c",
   "metadata": {},
   "source": [
    "### Exercise: Compute other features\n",
    "\n",
    "There are plenty of other features that you can compute. Check of the following methods\n",
    "\n",
    "* `tau`\n",
    "* `triangulation`\n",
    "* `ttp`\n",
    "* `upstroke`\n",
    "* `integrate_apd`\n",
    "* `maximum_relative_upstroke_velocity`\n",
    "* `maximum_upstroke_velocity`\n",
    "* `apd_up_xy`\n",
    "* `detect_ead`\n",
    "\n",
    "Look up the documentation and try to understand what these features are and try to see it the values you get make sense.\n"
   ]
  },
  {
   "cell_type": "markdown",
   "id": "4b388bce",
   "metadata": {},
   "source": [
    "## Extracting traces from subregions of the chip\n",
    "\n",
    "Now we will briefly discuss how to automatically extract traces from different regions of the chip. In the next session you will get a more thorough explanation on how to do this.\n",
    "\n",
    "For reference, let us plot the first frame from the data"
   ]
  },
  {
   "cell_type": "code",
   "execution_count": null,
   "id": "94fea281",
   "metadata": {},
   "outputs": [],
   "source": [
    "fig, ax = plt.subplots(figsize=(15, 4))\n",
    "plt.imshow(data.frames[:, :, 0].T)\n",
    "print(data.frames.shape)"
   ]
  },
  {
   "cell_type": "markdown",
   "id": "47e0e30d",
   "metadata": {},
   "source": [
    "Now we will use a methods from the mps package to extract averages from different subregions."
   ]
  },
  {
   "cell_type": "code",
   "execution_count": null,
   "id": "4e2ac6f8",
   "metadata": {},
   "outputs": [],
   "source": [
    "loc = mps.analysis.local_averages(\n",
    "    data.frames, times=data.time_stamps, N=15, background_correction=True\n",
    ")"
   ]
  },
  {
   "cell_type": "markdown",
   "id": "f5d76cb2",
   "metadata": {},
   "source": [
    "We specify some number `N` (here we chose 15) which will be the number of regions along the major axis of the chip. The algorithm will then subdivide the chip into squares (i.e width equal height and width) and choose the number of regions along the minor axis such that the regions cover the chip.\n",
    "\n",
    "We can take a look at the shape of this array"
   ]
  },
  {
   "cell_type": "code",
   "execution_count": null,
   "id": "c9a883c4",
   "metadata": {},
   "outputs": [],
   "source": [
    "print(loc.shape)"
   ]
  },
  {
   "cell_type": "markdown",
   "id": "d3f6b373",
   "metadata": {},
   "source": [
    "The last dimension will be the number of time steps.\n",
    "\n",
    "We can plot all the traces at their spatial location in a large subplot as follow"
   ]
  },
  {
   "cell_type": "code",
   "execution_count": null,
   "id": "8d7b232f",
   "metadata": {},
   "outputs": [],
   "source": [
    "fig, ax = plt.subplots(\n",
    "    loc.shape[1], loc.shape[0], sharex=True, sharey=True, figsize=(15, 6)\n",
    ")\n",
    "for i in range(loc.shape[0]):\n",
    "    for j in range(loc.shape[1]):\n",
    "        ax[j, i].plot(data.time_stamps, loc[i, j, :])\n",
    "plt.show()"
   ]
  },
  {
   "cell_type": "markdown",
   "id": "7b7f9f8a",
   "metadata": {},
   "source": [
    "Or we can plot them all in the same plot (here we just plot the mid regions"
   ]
  },
  {
   "cell_type": "code",
   "execution_count": null,
   "id": "0c8f41d7",
   "metadata": {},
   "outputs": [],
   "source": [
    "fig, ax = plt.subplots(figsize=(15, 8))\n",
    "for i in range(loc.shape[0]):\n",
    "    ax.plot(data.time_stamps, loc[i, 1], label=f\"region {i}\")\n",
    "ax.legend(bbox_to_anchor=(1, 0.5), loc=\"center left\")\n",
    "plt.show()"
   ]
  }
 ],
 "metadata": {
  "jupytext": {
   "cell_metadata_filter": "-all",
   "main_language": "python",
   "notebook_metadata_filter": "-all"
  },
  "kernelspec": {
   "display_name": "Python 3 (ipykernel)",
   "language": "python",
   "name": "python3"
  },
  "language_info": {
   "codemirror_mode": {
    "name": "ipython",
    "version": 3
   },
   "file_extension": ".py",
   "mimetype": "text/x-python",
   "name": "python",
   "nbconvert_exporter": "python",
   "pygments_lexer": "ipython3",
   "version": "3.10.6"
  }
 },
 "nbformat": 4,
 "nbformat_minor": 5
}
