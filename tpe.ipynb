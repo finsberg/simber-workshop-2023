{
 "cells": [
  {
   "cell_type": "markdown",
   "id": "4f34f0fe-f00b-4e1d-a693-d96e5c9f6d04",
   "metadata": {},
   "source": [
    "# TPE analysis and Tissue detection\n",
    "\n",
    "\n",
    "In this section we will look into some of the new datasets. In these dataset, there are typically four tissues for each recording. This means that in order to analyze this data, we need to extract traces from each tissue seprately.\n",
    "\n",
    "First we make the necessary imports"
   ]
  },
  {
   "cell_type": "code",
   "execution_count": null,
   "id": "489a44d8",
   "metadata": {},
   "outputs": [],
   "source": [
    "from pathlib import Path # For working with file paths\n",
    "import mps  # For reading MPS data\n",
    "import matplotlib.pyplot as plt # For plotting\n",
    "import numpy as np  # For general numerical functions\n",
    "import ap_features as apf"
   ]
  },
  {
   "cell_type": "markdown",
   "id": "dac464b3",
   "metadata": {},
   "source": [
    "Next, we download the TPE data"
   ]
  },
  {
   "cell_type": "code",
   "execution_count": null,
   "id": "b1987690-8620-4d96-9293-f951d60e9ae1",
   "metadata": {},
   "outputs": [],
   "source": [
    "tpe_data_path = Path(\"tpe.npy\")\n",
    "\n",
    "def download_data():\n",
    "    print(\"Downloading data. Please wait...\")\n",
    "    link = \"https://www.dropbox.com/s/qga5fi6xzt306f1/tpe.npy?dl=1\"\n",
    "    import urllib.request\n",
    "    import time\n",
    "\n",
    "    urllib.request.urlretrieve(link, motion_data_path)\n",
    "    time.sleep(1.0)\n",
    "    print(\"Done downloading data\")\n",
    "    \n",
    "if not tpe_data_path.is_file():\n",
    "    download_data()\n",
    "    \n",
    "data = mps.MPS(tpe_data_path)"
   ]
  },
  {
   "cell_type": "markdown",
   "id": "0e68f813",
   "metadata": {},
   "source": [
    "And just print some info about the dataset"
   ]
  },
  {
   "cell_type": "code",
   "execution_count": null,
   "id": "aeabe4fe",
   "metadata": {},
   "outputs": [],
   "source": [
    "data.info"
   ]
  },
  {
   "cell_type": "markdown",
   "id": "9a3f7019",
   "metadata": {},
   "source": [
    "Let us plot the first frame in the dataset"
   ]
  },
  {
   "cell_type": "code",
   "execution_count": null,
   "id": "b8a8a873",
   "metadata": {},
   "outputs": [],
   "source": [
    "first_frame = data.frames[:, :, 0].T"
   ]
  },
  {
   "cell_type": "code",
   "execution_count": null,
   "id": "7729e43d",
   "metadata": {},
   "outputs": [],
   "source": [
    "fig, ax = plt.subplots(figsize=(6, 10))\n",
    "ax.imshow(first_frame)"
   ]
  },
  {
   "cell_type": "markdown",
   "id": "2f3e272e",
   "metadata": {},
   "source": [
    "We see that there are four tissues, where the tissue on the top is little bit more difficult to see (the pixel intensities are lower), but this tissue has one very bright region.\n",
    "\n",
    "We can try to manually create some bounding boxes around these tissues."
   ]
  },
  {
   "cell_type": "code",
   "execution_count": null,
   "id": "4504beca",
   "metadata": {},
   "outputs": [],
   "source": [
    "x0 = (50, 600)\n",
    "y0 = (50, 200)\n",
    "\n",
    "x1 = (50, 600)\n",
    "y1 = (220, 350)\n",
    "\n",
    "x2 = (50, 600)\n",
    "y2 = (400, 520)\n",
    "\n",
    "x3 = (50, 600)\n",
    "y3 = (550, 700)\n",
    "\n",
    "fig, ax = plt.subplots()\n",
    "ax.imshow(first_frame)\n",
    "for (xi, yi) in [(x0, y0), (x1, y1), (x2, y2), (x3, y3)]:\n",
    "    ax.plot([xi[0], xi[0]], yi, color=\"r\")\n",
    "    ax.plot([xi[1], xi[1]], yi, color=\"r\")\n",
    "    ax.plot(xi, [yi[0], yi[0]], color=\"r\")\n",
    "    ax.plot(xi, [yi[1], yi[1]], color=\"r\")"
   ]
  },
  {
   "cell_type": "markdown",
   "id": "85fff03c",
   "metadata": {},
   "source": [
    "Now we can slice the images so that we get one set of images for each tissue specified by the bounding boxes defined above. Let us also plot the first frame of the second tissue to see that we actally got a reasonanle image"
   ]
  },
  {
   "cell_type": "code",
   "execution_count": null,
   "id": "83eded10",
   "metadata": {},
   "outputs": [],
   "source": [
    "tissue0 = data.frames[x0[0]:x0[1], y0[0]:y0[1], :]\n",
    "tissue1 = data.frames[x1[0]:x1[1], y1[0]:y1[1], :]\n",
    "tissue2 = data.frames[x2[0]:x2[1], y2[0]:y2[1], :]\n",
    "tissue3 = data.frames[x3[0]:x3[1], y3[0]:y3[1], :]\n",
    "\n",
    "fig, ax = plt.subplots()\n",
    "ax.imshow(tissue1[:, :, 0].T)\n",
    "plt.show()"
   ]
  },
  {
   "cell_type": "markdown",
   "id": "f81a8fb1",
   "metadata": {},
   "source": [
    "For each tissue we can now overage over each image, so that each image is reduced to a single number. This will then result in a trace for each tissue which we can plot"
   ]
  },
  {
   "cell_type": "code",
   "execution_count": null,
   "id": "3594b06c",
   "metadata": {},
   "outputs": [],
   "source": [
    "y_tissue0 = tissue0.mean(axis=(0, 1))\n",
    "y_tissue1 = tissue1.mean(axis=(0, 1))\n",
    "y_tissue2 = tissue2.mean(axis=(0, 1))\n",
    "y_tissue3 = tissue3.mean(axis=(0, 1))\n",
    "\n",
    "fig, ax = plt.subplots()\n",
    "ax.plot(data.time_stamps, y_tissue0, label=\"tissue0\")\n",
    "ax.plot(data.time_stamps, y_tissue1, label=\"tissue1\")\n",
    "ax.plot(data.time_stamps, y_tissue2, label=\"tissue2\")\n",
    "ax.plot(data.time_stamps, y_tissue3, label=\"tissue3\")\n",
    "ax.legend()\n",
    "plt.show()"
   ]
  },
  {
   "cell_type": "markdown",
   "id": "5e4473c2",
   "metadata": {},
   "source": [
    "We see that the baseline is quite different, and we can correct this baseline using a background correction method"
   ]
  },
  {
   "cell_type": "code",
   "execution_count": null,
   "id": "ea2c63bc",
   "metadata": {},
   "outputs": [],
   "source": [
    "trace_tissue0 = apf.Beats(y=y_tissue0, t=data.time_stamps, background_correction_method=\"full\")\n",
    "trace_tissue1 = apf.Beats(y=y_tissue1, t=data.time_stamps, background_correction_method=\"full\")\n",
    "trace_tissue2 = apf.Beats(y=y_tissue2, t=data.time_stamps, background_correction_method=\"full\")\n",
    "trace_tissue3 = apf.Beats(y=y_tissue3, t=data.time_stamps, background_correction_method=\"full\")\n",
    "\n",
    "fig, ax = plt.subplots()\n",
    "ax.plot(trace_tissue0.t, trace_tissue0.y, label=\"tissue0\")\n",
    "ax.plot(trace_tissue1.t, trace_tissue1.y, label=\"tissue1\")\n",
    "ax.plot(trace_tissue2.t, trace_tissue2.y, label=\"tissue2\")\n",
    "ax.plot(trace_tissue3.t, trace_tissue3.y, label=\"tissue3\")\n",
    "ax.legend()\n",
    "plt.show()"
   ]
  },
  {
   "cell_type": "markdown",
   "id": "a1aed426",
   "metadata": {},
   "source": [
    "We see now that the three last tissues are very similar, but the first tissue looks very different.\n",
    "\n",
    "To improve the results futher, we can try to detect the tissues using some very backing image processing. Here we first blur the image using a gaussian filter with a standard deviation of 20.0. Then we remove the small objects less that 400 pixels inside. We could also fill the holes but in this example we decide not to. Try to experiment with different values of these arguments to see if it changes the result."
   ]
  },
  {
   "cell_type": "code",
   "execution_count": null,
   "id": "27c40369",
   "metadata": {},
   "outputs": [],
   "source": [
    "mask = mps.tissue_detection.detect_tissue(frame=first_frame, sigma=20.0, min_size=400, fill_holes=False)\n",
    "\n",
    "fig, ax = plt.subplots(1, 2, figsize=(10, 6))\n",
    "ax[0].imshow(first_frame)\n",
    "ax[0].imshow(mask, alpha=0.1, cmap=\"gray\")\n",
    "ax[1].imshow(mask, cmap=\"gray\")"
   ]
  },
  {
   "cell_type": "markdown",
   "id": "d70ee911",
   "metadata": {},
   "source": [
    "We can now create a mask for each tissue"
   ]
  },
  {
   "cell_type": "code",
   "execution_count": null,
   "id": "8c995502",
   "metadata": {},
   "outputs": [],
   "source": [
    "mask_tissue0 = mask.T[x0[0]:x0[1], y0[0]:y0[1]]\n",
    "mask_tissue1 = mask.T[x1[0]:x1[1], y1[0]:y1[1]]\n",
    "mask_tissue2 = mask.T[x2[0]:x2[1], y2[0]:y2[1]]\n",
    "mask_tissue3 = mask.T[x3[0]:x3[1], y3[0]:y3[1]]\n",
    "\n",
    "fig, ax = plt.subplots()\n",
    "ax.imshow(mask_tissue1.T)\n",
    "plt.show()"
   ]
  },
  {
   "cell_type": "markdown",
   "id": "b6e2fa57",
   "metadata": {},
   "source": [
    "And use this mask to compute new average traces, by onle averaging over the pixel inside the masked region"
   ]
  },
  {
   "cell_type": "code",
   "execution_count": null,
   "id": "eec13087",
   "metadata": {},
   "outputs": [],
   "source": [
    "y_tissue0_mask = tissue0[mask_tissue0].mean(axis=0)\n",
    "y_tissue1_mask = tissue1[mask_tissue1].mean(axis=0)\n",
    "y_tissue2_mask = tissue2[mask_tissue2].mean(axis=0)\n",
    "y_tissue3_mask = tissue3[mask_tissue3].mean(axis=0)\n",
    "\n",
    "fig, ax = plt.subplots(1, 2, figsize=(10, 6), sharey=True)\n",
    "ax[0].plot(data.time_stamps, y_tissue0_mask, label=\"tissue0\")\n",
    "ax[0].plot(data.time_stamps, y_tissue1_mask, label=\"tissue1\")\n",
    "ax[0].plot(data.time_stamps, y_tissue2_mask, label=\"tissue2\")\n",
    "ax[0].plot(data.time_stamps, y_tissue3_mask, label=\"tissue3\")\n",
    "ax[0].legend()\n",
    "ax[0].set_title(\"Masked\")\n",
    "ax[1].plot(data.time_stamps, y_tissue0, label=\"tissue0\")\n",
    "ax[1].plot(data.time_stamps, y_tissue1, label=\"tissue1\")\n",
    "ax[1].plot(data.time_stamps, y_tissue2, label=\"tissue2\")\n",
    "ax[1].plot(data.time_stamps, y_tissue3, label=\"tissue3\")\n",
    "ax[1].legend()\n",
    "ax[1].set_title(\"Original\")\n",
    "plt.show()"
   ]
  },
  {
   "cell_type": "markdown",
   "id": "1523a84e",
   "metadata": {},
   "source": [
    "We see that the traces obtained using the masks have a higher baseline intensity. We can try to apply some baseline corrrection to compare the traces further"
   ]
  },
  {
   "cell_type": "code",
   "execution_count": null,
   "id": "b2bbd610",
   "metadata": {},
   "outputs": [],
   "source": [
    "trace_tissue0_mask = apf.Beats(y=y_tissue0_mask, t=data.time_stamps, background_correction_method=\"full\")\n",
    "trace_tissue1_mask = apf.Beats(y=y_tissue1_mask, t=data.time_stamps, background_correction_method=\"full\")\n",
    "trace_tissue2_mask = apf.Beats(y=y_tissue2_mask, t=data.time_stamps, background_correction_method=\"full\")\n",
    "trace_tissue3_mask = apf.Beats(y=y_tissue3_mask, t=data.time_stamps, background_correction_method=\"full\")\n",
    "\n",
    "fig, ax = plt.subplots(1, 2, figsize=(10, 6), sharey=True)\n",
    "ax[0].plot(trace_tissue0_mask.t, trace_tissue0_mask.y, label=\"tissue0\")\n",
    "ax[0].plot(trace_tissue1_mask.t, trace_tissue1_mask.y, label=\"tissue1\")\n",
    "ax[0].plot(trace_tissue2_mask.t, trace_tissue2_mask.y, label=\"tissue2\")\n",
    "ax[0].plot(trace_tissue3_mask.t, trace_tissue3_mask.y, label=\"tissue3\")\n",
    "ax[0].legend()\n",
    "ax[0].set_title(\"Masked\")\n",
    "ax[1].plot(trace_tissue0.t, trace_tissue0.y, label=\"tissue0\")\n",
    "ax[1].plot(trace_tissue1.t, trace_tissue1.y, label=\"tissue1\")\n",
    "ax[1].plot(trace_tissue2.t, trace_tissue2.y, label=\"tissue2\")\n",
    "ax[1].plot(trace_tissue3.t, trace_tissue3.y, label=\"tissue3\")\n",
    "ax[1].legend()\n",
    "ax[1].set_title(\"Original\")\n",
    "plt.show()"
   ]
  },
  {
   "cell_type": "code",
   "execution_count": null,
   "id": "0f2a5194",
   "metadata": {},
   "outputs": [],
   "source": [
    "fig, ax = plt.subplots(4, 2, figsize=(10, 6), sharey=\"row\", sharex=True)\n",
    "ax[0, 0].plot(trace_tissue0_mask.t, trace_tissue0_mask.y)\n",
    "ax[0, 0].set_ylabel(\"tissue0\")\n",
    "ax[1, 0].plot(trace_tissue1_mask.t, trace_tissue1_mask.y)\n",
    "ax[1, 0].set_ylabel(\"tissue1\")\n",
    "ax[2, 0].plot(trace_tissue2_mask.t, trace_tissue2_mask.y)\n",
    "ax[2, 0].set_ylabel(\"tissue2\")\n",
    "ax[3, 0].plot(trace_tissue3_mask.t, trace_tissue3_mask.y)\n",
    "ax[3, 0].set_ylabel(\"tissue3\")\n",
    "\n",
    "ax[0, 1].plot(trace_tissue0.t, trace_tissue0.y)\n",
    "ax[1, 1].plot(trace_tissue1.t, trace_tissue1.y)\n",
    "ax[2, 1].plot(trace_tissue2.t, trace_tissue2.y)\n",
    "ax[3, 1].plot(trace_tissue3.t, trace_tissue3.y)\n",
    "\n",
    "ax[0, 0].set_title(\"Masked\")\n",
    "ax[0, 1].set_title(\"Original\")\n",
    "\n",
    "plt.show()"
   ]
  },
  {
   "cell_type": "code",
   "execution_count": null,
   "id": "2908e404",
   "metadata": {},
   "outputs": [],
   "source": [
    "def normalize(y):\n",
    "    return (y - np.min(y)) / (np.max(y) - np.min(y))\n",
    "\n",
    "# def normalize(y): return y\n",
    "\n",
    "s = 1 # First point messes up the normalization\n",
    "fig, ax = plt.subplots(4, 1, figsize=(10, 6), sharey=\"row\", sharex=True)\n",
    "l1, = ax[0].plot(trace_tissue0_mask.t[s:], normalize(trace_tissue0_mask.y[s:]))\n",
    "l2, = ax[0].plot(trace_tissue0.t[s:], normalize(trace_tissue0.y[s:]))\n",
    "ax[0].set_ylabel(\"tissue0\")\n",
    "\n",
    "ax[1].plot(trace_tissue1_mask.t, normalize(trace_tissue1_mask.y))\n",
    "ax[1].plot(trace_tissue1.t, normalize(trace_tissue1.y))\n",
    "ax[1].set_ylabel(\"tissue1\")\n",
    "\n",
    "ax[2].plot(trace_tissue2_mask.t, normalize(trace_tissue2_mask.y))\n",
    "ax[2].plot(trace_tissue2.t, normalize(trace_tissue2.y))\n",
    "ax[2].set_ylabel(\"tissue2\")\n",
    "\n",
    "ax[3].plot(trace_tissue3_mask.t, normalize(trace_tissue3_mask.y))\n",
    "ax[3].plot(trace_tissue3.t, normalize(trace_tissue3.y))\n",
    "ax[3].set_ylabel(\"tissue3\")\n",
    "\n",
    "fig.legend([l1, l2],[\"Masked\", \"Original\"], loc=\"upper center\", ncol=2)\n",
    "plt.show()"
   ]
  },
  {
   "cell_type": "markdown",
   "id": "4906be8d",
   "metadata": {},
   "source": [
    "Except for the fist tissue, we see that both versions are very similar, but the masked version seems a bit less noisy"
   ]
  },
  {
   "cell_type": "code",
   "execution_count": null,
   "id": "89cdebc9",
   "metadata": {},
   "outputs": [],
   "source": [
    "snr_mask = np.mean(trace_tissue1_mask.y) / np.std(trace_tissue1_mask.y)\n",
    "snr_orig = np.mean(trace_tissue1.y) / np.std(trace_tissue1.y)\n",
    "\n",
    "print(f\"SNR (masked): {snr_mask}, SNR (original): {snr_orig}\")"
   ]
  }
 ],
 "metadata": {
  "kernelspec": {
   "display_name": "Python 3 (ipykernel)",
   "language": "python",
   "name": "python3"
  },
  "language_info": {
   "codemirror_mode": {
    "name": "ipython",
    "version": 3
   },
   "file_extension": ".py",
   "mimetype": "text/x-python",
   "name": "python",
   "nbconvert_exporter": "python",
   "pygments_lexer": "ipython3",
   "version": "3.10.6"
  }
 },
 "nbformat": 4,
 "nbformat_minor": 5
}
