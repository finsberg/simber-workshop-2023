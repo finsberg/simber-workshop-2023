{
 "cells": [
  {
   "cell_type": "markdown",
   "id": "4f34f0fe-f00b-4e1d-a693-d96e5c9f6d04",
   "metadata": {},
   "source": [
    "# TPE analysis and Tissue detection\n"
   ]
  },
  {
   "cell_type": "code",
   "execution_count": null,
   "id": "4461bf22",
   "metadata": {},
   "outputs": [],
   "source": [
    "from pathlib import Path # For working with file paths\n",
    "import mps  # For reading MPS data\n",
    "import matplotlib.pyplot as plt # For plotting\n",
    "import ap_features as apf"
   ]
  },
  {
   "cell_type": "code",
   "execution_count": null,
   "id": "b1987690-8620-4d96-9293-f951d60e9ae1",
   "metadata": {},
   "outputs": [],
   "source": [
    "tpe_data_path = Path(\"tpe.npy\")\n",
    "\n",
    "def download_data():\n",
    "    print(\"Downloading data. Please wait...\")\n",
    "    link = \"https://www.dropbox.com/s/qga5fi6xzt306f1/tpe.npy?dl=1\"\n",
    "    import urllib.request\n",
    "    import time\n",
    "\n",
    "    urllib.request.urlretrieve(link, motion_data_path)\n",
    "    time.sleep(1.0)\n",
    "    print(\"Done downloading data\")\n",
    "    \n",
    "if not tpe_data_path.is_file():\n",
    "    download_data()\n",
    "    \n",
    "data = mps.MPS(tpe_data_path)"
   ]
  },
  {
   "cell_type": "code",
   "execution_count": null,
   "id": "8b0c4683",
   "metadata": {},
   "outputs": [],
   "source": [
    "data.info"
   ]
  },
  {
   "cell_type": "code",
   "execution_count": null,
   "id": "25975742",
   "metadata": {},
   "outputs": [],
   "source": [
    "first_frame = data.frames[:, :, 0].T"
   ]
  },
  {
   "cell_type": "code",
   "execution_count": null,
   "id": "b8f9e599",
   "metadata": {},
   "outputs": [],
   "source": [
    "fig, ax = plt.subplots(figsize=(6, 10))\n",
    "ax.imshow(first_frame)"
   ]
  },
  {
   "cell_type": "code",
   "execution_count": null,
   "id": "82a581e1",
   "metadata": {},
   "outputs": [],
   "source": [
    "x0 = (50, 600)\n",
    "y0 = (50, 200)\n",
    "\n",
    "x1 = (50, 600)\n",
    "y1 = (220, 350)\n",
    "\n",
    "x2 = (50, 600)\n",
    "y2 = (400, 520)\n",
    "\n",
    "x3 = (50, 600)\n",
    "y3 = (550, 700)\n",
    "\n",
    "fig, ax = plt.subplots()\n",
    "ax.imshow(first_frame)\n",
    "for (xi, yi) in [(x0, y0), (x1, y1), (x2, y2), (x3, y3)]:\n",
    "    ax.plot([xi[0], xi[0]], yi, color=\"r\")\n",
    "    ax.plot([xi[1], xi[1]], yi, color=\"r\")\n",
    "    ax.plot(xi, [yi[0], yi[0]], color=\"r\")\n",
    "    ax.plot(xi, [yi[1], yi[1]], color=\"r\")"
   ]
  },
  {
   "cell_type": "code",
   "execution_count": null,
   "id": "725c2611",
   "metadata": {},
   "outputs": [],
   "source": [
    "tissue0 = data.frames[x0[0]:x0[1], y0[0]:y0[1], :]\n",
    "tissue1 = data.frames[x1[0]:x1[1], y1[0]:y1[1], :]\n",
    "tissue2 = data.frames[x2[0]:x2[1], y2[0]:y2[1], :]\n",
    "tissue3 = data.frames[x3[0]:x3[1], y3[0]:y3[1], :]\n",
    "\n",
    "fig, ax = plt.subplots()\n",
    "ax.imshow(tissue1[:, :, 0].T)\n",
    "plt.show()"
   ]
  },
  {
   "cell_type": "code",
   "execution_count": null,
   "id": "67c8649d",
   "metadata": {},
   "outputs": [],
   "source": [
    "y_tissue0 = tissue0.mean(axis=(0, 1))\n",
    "y_tissue1 = tissue1.mean(axis=(0, 1))\n",
    "y_tissue2 = tissue2.mean(axis=(0, 1))\n",
    "y_tissue3 = tissue3.mean(axis=(0, 1))\n",
    "\n",
    "fig, ax = plt.subplots()\n",
    "ax.plot(data.time_stamps, y_tissue0, label=\"tissue0\")\n",
    "ax.plot(data.time_stamps, y_tissue1, label=\"tissue1\")\n",
    "ax.plot(data.time_stamps, y_tissue2, label=\"tissue2\")\n",
    "ax.plot(data.time_stamps, y_tissue3, label=\"tissue3\")\n",
    "ax.legend()\n",
    "plt.show()"
   ]
  },
  {
   "cell_type": "code",
   "execution_count": null,
   "id": "816edb03",
   "metadata": {},
   "outputs": [],
   "source": [
    "trace_tissue0 = apf.Beats(y=y_tissue0, t=data.time_stamps, background_correction_method=\"full\")\n",
    "trace_tissue1 = apf.Beats(y=y_tissue1, t=data.time_stamps, background_correction_method=\"full\")\n",
    "trace_tissue2 = apf.Beats(y=y_tissue2, t=data.time_stamps, background_correction_method=\"full\")\n",
    "trace_tissue3 = apf.Beats(y=y_tissue3, t=data.time_stamps, background_correction_method=\"full\")\n",
    "\n",
    "fig, ax = plt.subplots()\n",
    "ax.plot(trace_tissue0.t, trace_tissue0.y, label=\"tissue0\")\n",
    "ax.plot(trace_tissue1.t, trace_tissue1.y, label=\"tissue1\")\n",
    "ax.plot(trace_tissue2.t, trace_tissue2.y, label=\"tissue2\")\n",
    "ax.plot(trace_tissue3.t, trace_tissue3.y, label=\"tissue3\")\n",
    "ax.legend()\n",
    "plt.show()"
   ]
  },
  {
   "cell_type": "code",
   "execution_count": null,
   "id": "8cc4918d",
   "metadata": {},
   "outputs": [],
   "source": [
    "mask = mps.tissue_detection.detect_tissue(frame=first_frame, sigma=20.0, min_size=400, fill_holes=False)\n",
    "\n",
    "fig, ax = plt.subplots(1, 2, figsize=(10, 6))\n",
    "ax[0].imshow(first_frame)\n",
    "ax[0].imshow(mask, alpha=0.1, cmap=\"gray\")\n",
    "ax[1].imshow(mask, cmap=\"gray\")"
   ]
  },
  {
   "cell_type": "code",
   "execution_count": null,
   "id": "26aa466a",
   "metadata": {},
   "outputs": [],
   "source": [
    "mask_tissue0 = mask.T[x0[0]:x0[1], y0[0]:y0[1]]\n",
    "mask_tissue1 = mask.T[x1[0]:x1[1], y1[0]:y1[1]]\n",
    "mask_tissue2 = mask.T[x2[0]:x2[1], y2[0]:y2[1]]\n",
    "mask_tissue3 = mask.T[x3[0]:x3[1], y3[0]:y3[1]]\n",
    "\n",
    "fig, ax = plt.subplots()\n",
    "ax.imshow(mask_tissue1.T)\n",
    "plt.show()"
   ]
  },
  {
   "cell_type": "code",
   "execution_count": null,
   "id": "4b67b726",
   "metadata": {},
   "outputs": [],
   "source": [
    "print(tissue0.shape)\n",
    "print(mask_tissue0.shape)\n"
   ]
  },
  {
   "cell_type": "code",
   "execution_count": null,
   "id": "de724505",
   "metadata": {},
   "outputs": [],
   "source": [
    "y_tissue0_mask = tissue0[mask_tissue0].mean(axis=0)\n",
    "y_tissue1_mask = tissue1[mask_tissue1].mean(axis=0)\n",
    "y_tissue2_mask = tissue2[mask_tissue2].mean(axis=0)\n",
    "y_tissue3_mask = tissue3[mask_tissue3].mean(axis=0)\n",
    "\n",
    "fig, ax = plt.subplots(1, 2, figsize=(10, 6), sharey=True)\n",
    "ax[0].plot(data.time_stamps, y_tissue0_mask, label=\"tissue0\")\n",
    "ax[0].plot(data.time_stamps, y_tissue1_mask, label=\"tissue1\")\n",
    "ax[0].plot(data.time_stamps, y_tissue2_mask, label=\"tissue2\")\n",
    "ax[0].plot(data.time_stamps, y_tissue3_mask, label=\"tissue3\")\n",
    "ax[0].legend()\n",
    "ax[0].set_title(\"Masked\")\n",
    "ax[1].plot(data.time_stamps, y_tissue0, label=\"tissue0\")\n",
    "ax[1].plot(data.time_stamps, y_tissue1, label=\"tissue1\")\n",
    "ax[1].plot(data.time_stamps, y_tissue2, label=\"tissue2\")\n",
    "ax[1].plot(data.time_stamps, y_tissue3, label=\"tissue3\")\n",
    "ax[1].legend()\n",
    "ax[1].set_title(\"Original\")\n",
    "plt.show()"
   ]
  },
  {
   "cell_type": "code",
   "execution_count": null,
   "id": "adf25f0d",
   "metadata": {},
   "outputs": [],
   "source": [
    "trace_tissue0_mask = apf.Beats(y=y_tissue0_mask, t=data.time_stamps, background_correction_method=\"full\")\n",
    "trace_tissue1_mask = apf.Beats(y=y_tissue1_mask, t=data.time_stamps, background_correction_method=\"full\")\n",
    "trace_tissue2_mask = apf.Beats(y=y_tissue2_mask, t=data.time_stamps, background_correction_method=\"full\")\n",
    "trace_tissue3_mask = apf.Beats(y=y_tissue3_mask, t=data.time_stamps, background_correction_method=\"full\")\n",
    "\n",
    "fig, ax = plt.subplots(1, 2, figsize=(10, 6), sharey=True)\n",
    "ax[0].plot(trace_tissue0_mask.t, trace_tissue0_mask.y, label=\"tissue0\")\n",
    "ax[0].plot(trace_tissue1_mask.t, trace_tissue1_mask.y, label=\"tissue1\")\n",
    "ax[0].plot(trace_tissue2_mask.t, trace_tissue2_mask.y, label=\"tissue2\")\n",
    "ax[0].plot(trace_tissue3_mask.t, trace_tissue3_mask.y, label=\"tissue3\")\n",
    "ax[0].legend()\n",
    "ax[0].set_title(\"Masked\")\n",
    "ax[1].plot(trace_tissue0.t, trace_tissue0.y, label=\"tissue0\")\n",
    "ax[1].plot(trace_tissue1.t, trace_tissue1.y, label=\"tissue1\")\n",
    "ax[1].plot(trace_tissue2.t, trace_tissue2.y, label=\"tissue2\")\n",
    "ax[1].plot(trace_tissue3.t, trace_tissue3.y, label=\"tissue3\")\n",
    "ax[1].legend()\n",
    "ax[1].set_title(\"Original\")\n",
    "plt.show()"
   ]
  },
  {
   "cell_type": "code",
   "execution_count": null,
   "id": "2f11035f",
   "metadata": {},
   "outputs": [],
   "source": []
  }
 ],
 "metadata": {
  "kernelspec": {
   "display_name": "Python 3 (ipykernel)",
   "language": "python",
   "name": "python3"
  },
  "language_info": {
   "codemirror_mode": {
    "name": "ipython",
    "version": 3
   },
   "file_extension": ".py",
   "mimetype": "text/x-python",
   "name": "python",
   "nbconvert_exporter": "python",
   "pygments_lexer": "ipython3",
   "version": "3.10.6"
  }
 },
 "nbformat": 4,
 "nbformat_minor": 5
}
