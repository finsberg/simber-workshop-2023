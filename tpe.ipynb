{
 "cells": [
  {
   "cell_type": "markdown",
   "id": "4f34f0fe-f00b-4e1d-a693-d96e5c9f6d04",
   "metadata": {},
   "source": [
    "# TPE analysis and Tissue detection\n"
   ]
  },
  {
   "cell_type": "code",
   "execution_count": null,
   "id": "b1987690-8620-4d96-9293-f951d60e9ae1",
   "metadata": {},
   "outputs": [],
   "source": []
  }
 ],
 "metadata": {
  "kernelspec": {
   "display_name": "Python 3 (ipykernel)",
   "language": "python",
   "name": "python3"
  },
  "language_info": {
   "codemirror_mode": {
    "name": "ipython",
    "version": 3
   },
   "file_extension": ".py",
   "mimetype": "text/x-python",
   "name": "python",
   "nbconvert_exporter": "python",
   "pygments_lexer": "ipython3",
   "version": "3.10.6"
  }
 },
 "nbformat": 4,
 "nbformat_minor": 5
}
