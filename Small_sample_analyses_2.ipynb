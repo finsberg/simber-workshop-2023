{
 "cells": [
  {
   "attachments": {},
   "cell_type": "markdown",
   "id": "24d0cea8",
   "metadata": {},
   "source": [
    "# Step 1: The preliminaries\n",
    "## 1(a) Import the libraries "
   ]
  },
  {
   "cell_type": "code",
   "execution_count": null,
   "id": "289c253b",
   "metadata": {},
   "outputs": [],
   "source": [
    "import pandas as pd\n",
    "import scipy.stats as stats\n",
    "import statsmodels.api as sm\n",
    "from statsmodels.stats.anova import AnovaRM\n",
    "import statsmodels.formula.api as smf\n",
    "import matplotlib.pyplot as plt\n",
    "import seaborn as sns\n",
    "from load_data_common_Andy import df_features"
   ]
  },
  {
   "attachments": {},
   "cell_type": "markdown",
   "id": "dc8e2252",
   "metadata": {},
   "source": [
    "## 1(b) Load all the data - this time we remove those non-beating cells"
   ]
  },
  {
   "cell_type": "code",
   "execution_count": null,
   "id": "c143bae3",
   "metadata": {},
   "outputs": [],
   "source": [
    "df_features = df_features.dropna(subset=['voltage_beating_frequencies'])\n",
    "Verapamil = df_features.loc[(df_features['drug'] == 'Verapamil') & (df_features['dose'] != '10uM') & (df_features['dose'] != '100uM')  ]\n",
    "\n",
    "Control = df_features.loc[(df_features['drug'] == 'Control')]\n",
    "BayK = df_features.loc[(df_features['drug'] == 'Bay_K')]\n",
    "Dofetilide = df_features.loc[(df_features['drug'] == 'Dofetilide')]\n",
    "df_reduced = pd.concat([Control,BayK,Verapamil,Dofetilide])"
   ]
  },
  {
   "attachments": {},
   "cell_type": "markdown",
   "id": "a708eecc",
   "metadata": {},
   "source": [
    "## Now we are going to make some inferences among those 4 groups:  \n",
    "### (A) Control,  (B) Bay K8644 (C) Verapamil, (D) Dofetilide"
   ]
  },
  {
   "attachments": {},
   "cell_type": "markdown",
   "id": "b2d9d1c7",
   "metadata": {},
   "source": [
    "### $APD_{80}$"
   ]
  },
  {
   "cell_type": "code",
   "execution_count": null,
   "id": "4cbd88b7",
   "metadata": {},
   "outputs": [],
   "source": [
    "sns.catplot(x='drug', y='voltage_apd80', data=df_reduced[['drug','voltage_apd80']], dodge=True, kind='violin', aspect=3)"
   ]
  },
  {
   "cell_type": "code",
   "execution_count": null,
   "id": "610c3e2d",
   "metadata": {},
   "outputs": [],
   "source": [
    "sns.barplot(x = \"drug\", y = \"voltage_apd80\", data = df_reduced[['drug',\"voltage_apd80\"]], estimator = \"mean\", errorbar = 'se')"
   ]
  },
  {
   "attachments": {},
   "cell_type": "markdown",
   "id": "d9d340c9",
   "metadata": {},
   "source": [
    "## Starting with the simplest question: is there a difference in mean $APD_{90}$ across drugs?"
   ]
  },
  {
   "attachments": {},
   "cell_type": "markdown",
   "id": "bae0c896",
   "metadata": {},
   "source": [
    "## (1) One-way (single factor) ANOVA\n",
    "## Our model for the data:\n",
    "$$\\Large\n",
    "APD_{80_{ij}}=\\mu_{0} + \\alpha_{i} + \\epsilon_{ij}\n",
    "$$"
   ]
  },
  {
   "cell_type": "code",
   "execution_count": null,
   "id": "a8fa7b00",
   "metadata": {},
   "outputs": [],
   "source": [
    "Control = df_features.loc[(df_features[\"drug\"]==\"Control\"),[\"drug\",\"dose\",\"voltage_apd80\",\"tissue\",\"well\"]]\n",
    "Bay_K = df_features.loc[(df_features[\"drug\"]==\"Bay_K\"),[\"drug\",\"dose\",\"voltage_apd80\",\"tissue\",\"well\"]]\n",
    "Verapamil = df_features.loc[(df_features[\"drug\"]==\"Verapamil\"),[\"drug\",\"dose\",\"voltage_apd80\",\"tissue\",\"well\"]]\n",
    "Dofetilide = df_features.loc[(df_features[\"drug\"]==\"Dofetilide\"),[\"drug\",\"dose\",\"voltage_apd80\",\"tissue\",\"well\"]]\n",
    "\n",
    "Control"
   ]
  },
  {
   "cell_type": "code",
   "execution_count": null,
   "id": "68df4175",
   "metadata": {},
   "outputs": [],
   "source": [
    "F,p = stats.f_oneway(Control[\"voltage_apd80\"],Bay_K[\"voltage_apd80\"],Verapamil[\"voltage_apd80\"],Dofetilide[\"voltage_apd80\"])\n",
    "\n",
    "print('F statistic value:',F)\n",
    "print('p-value:',p)"
   ]
  },
  {
   "attachments": {},
   "cell_type": "markdown",
   "id": "6a27751c",
   "metadata": {},
   "source": [
    "## (2) Equivalent General Linear Model formulation"
   ]
  },
  {
   "attachments": {},
   "cell_type": "markdown",
   "id": "c8e15b0e",
   "metadata": {},
   "source": [
    "## Our simple one factor linear model:   "
   ]
  },
  {
   "attachments": {},
   "cell_type": "markdown",
   "id": "b995e7c6",
   "metadata": {},
   "source": [
    "$$\\Large\n",
    "APD_{80_{ij}}=\\beta_{0} + \\beta_{1}drug_{i} + \\epsilon_{ij}\n",
    "$$"
   ]
  },
  {
   "attachments": {},
   "cell_type": "markdown",
   "id": "343d9dd0",
   "metadata": {},
   "source": [
    "### Need to rearrange the data a little first"
   ]
  },
  {
   "cell_type": "code",
   "execution_count": null,
   "id": "74b98a13",
   "metadata": {},
   "outputs": [],
   "source": [
    "df_1way = pd.concat([Control,Bay_K,Verapamil,Dofetilide])\n",
    "\n",
    "df_1way"
   ]
  },
  {
   "cell_type": "code",
   "execution_count": null,
   "id": "a1acb94a",
   "metadata": {},
   "outputs": [],
   "source": [
    "one_way_glm_model = smf.ols(formula=\"voltage_apd80 ~ drug\", data=df_1way)\n",
    "one_way_glm_fit = one_way_glm_model.fit()\n",
    "print(one_way_glm_fit.summary())\n",
    "anova_table = sm.stats.anova_lm(one_way_glm_fit, typ=2)\n",
    "print(anova_table)"
   ]
  },
  {
   "attachments": {},
   "cell_type": "markdown",
   "id": "dfbec581",
   "metadata": {},
   "source": [
    "## What about the effect of dose for a drug?"
   ]
  },
  {
   "attachments": {},
   "cell_type": "markdown",
   "id": "7aeffadd",
   "metadata": {},
   "source": [
    "## Control (\"dose\" refers to [DMSO]): Let's first look at the distributions again"
   ]
  },
  {
   "cell_type": "code",
   "execution_count": null,
   "id": "ee6c1329",
   "metadata": {},
   "outputs": [],
   "source": [
    "Control.groupby('dose')['voltage_apd80'].plot(kind='kde', xlim=[0,3000], ylim=[0,0.02])\n",
    "dose = ['0.0006%','0.006%','0.06%','0.6%','baseline']\n",
    "plt.legend(dose, title='DMSO dose')"
   ]
  },
  {
   "cell_type": "code",
   "execution_count": null,
   "id": "de01e652",
   "metadata": {},
   "outputs": [],
   "source": [
    "Control_RM = Control.copy()\n",
    "Control_RM[\"tissue_RM\"] = Control_RM.apply(lambda _: ' ', axis=1)\n",
    "wells_unique = Control_RM[\"well\"].unique()\n",
    "tissue_num = 1\n",
    "for well in wells_unique:\n",
    "    well_rows = Control_RM.loc[(Control_RM[\"well\"] == well)]\n",
    "    tissue_unique = well_rows[\"tissue\"].unique()\n",
    "    for tissue in tissue_unique:\n",
    "        Control_RM.loc[(Control_RM[\"well\"] == well) & (Control_RM[\"tissue\"]==tissue),\"tissue_RM\"]=tissue_num\n",
    "        tissue_num = tissue_num+1\n",
    "Control_RM"
   ]
  },
  {
   "attachments": {},
   "cell_type": "markdown",
   "id": "fac1ff02",
   "metadata": {},
   "source": [
    "## Running the Repeated Measures design using conventional ANOVA  \n",
    "## The model:\n",
    "$$\\Large\n",
    "APD_{80_{ij}}=\\mu_{0} + \\alpha_{i} + \\lambda_{j} + \\epsilon_{ij}\n",
    "$$\n",
    "$$\n",
    "where, \\alpha_{i} = doses \n",
    "$$\n",
    "$$\n",
    "\\lambda_{j} = tissues\n",
    "$$\n",
    "$$\n",
    "\\epsilon_{ij} = residuals\n",
    "$$"
   ]
  },
  {
   "cell_type": "code",
   "execution_count": null,
   "id": "71c32435",
   "metadata": {},
   "outputs": [],
   "source": [
    "Control_RM_anova_table = AnovaRM(data=Control_RM, depvar='voltage_apd80', subject='tissue_RM', within=['dose']).fit()\n",
    "print(Control_RM_anova_table)"
   ]
  },
  {
   "attachments": {},
   "cell_type": "markdown",
   "id": "9abaad4c",
   "metadata": {},
   "source": [
    "## Now let's try Bay K8644 "
   ]
  },
  {
   "attachments": {},
   "cell_type": "markdown",
   "id": "6bcd22d5",
   "metadata": {},
   "source": [
    "### Those distributions again:"
   ]
  },
  {
   "cell_type": "code",
   "execution_count": null,
   "id": "7f6ee280",
   "metadata": {},
   "outputs": [],
   "source": [
    "BayK.groupby('dose')['voltage_apd80'].plot(kind='kde', xlim=[0,3000], ylim=[0,0.02])\n",
    "dose = ['1000nM','100nM','10nM','1nM','baseline']\n",
    "plt.legend(dose, title='Bay K8644 dose')"
   ]
  },
  {
   "attachments": {},
   "cell_type": "markdown",
   "id": "53687b00",
   "metadata": {},
   "source": [
    "### Mmm, mmm. Looking good. There must be a drug effect here."
   ]
  },
  {
   "attachments": {},
   "cell_type": "markdown",
   "id": "30f1d815",
   "metadata": {},
   "source": [
    "### Reconfiguring the Bay K data for a \"within subjects\" tissue design for RMANOVA"
   ]
  },
  {
   "cell_type": "code",
   "execution_count": null,
   "id": "09cb7ae7",
   "metadata": {},
   "outputs": [],
   "source": [
    "Bay_K_RM = Bay_K.copy()\n",
    "Bay_K_RM[\"tissue_RM\"] = Bay_K_RM.apply(lambda _: ' ', axis=1)\n",
    "wells_unique = Bay_K[\"well\"].unique()\n",
    "tissue_num = 1\n",
    "for well in wells_unique:\n",
    "    well_rows = Bay_K.loc[(Bay_K[\"well\"] == well)]\n",
    "    tissue_unique = well_rows[\"tissue\"].unique()\n",
    "    for tissue in tissue_unique:\n",
    "        Bay_K_RM.loc[(Bay_K[\"well\"] == well) & (Bay_K[\"tissue\"]==tissue),\"tissue_RM\"]=tissue_num\n",
    "        tissue_num = tissue_num+1\n",
    "Bay_K_RM"
   ]
  },
  {
   "cell_type": "code",
   "execution_count": null,
   "id": "42d27f53",
   "metadata": {},
   "outputs": [],
   "source": [
    "AnovaRM(data=Bay_K_RM, depvar='voltage_apd80', subject='tissue_RM', within=['dose']).fit()"
   ]
  },
  {
   "attachments": {},
   "cell_type": "markdown",
   "id": "15cf4abe",
   "metadata": {},
   "source": [
    "## What? Does this mean I can't use a \"within subjects\" design?"
   ]
  },
  {
   "attachments": {},
   "cell_type": "markdown",
   "id": "792c57d3",
   "metadata": {},
   "source": [
    "### Linear mixed models offer robustness and flexibility"
   ]
  },
  {
   "attachments": {},
   "cell_type": "markdown",
   "id": "1e21dee9",
   "metadata": {},
   "source": [
    "### The linear mixed model for this 1-factor Repeated Measures design:\n",
    "$$\\Large\n",
    "APD_{80_{ij}}=(\\beta_{0}+b_{0j}) + (\\beta_{1}+b_{1j})dose_{i} + \\epsilon_{ij}\n",
    "$$\n",
    "$$\n",
    "i = doses \n",
    "$$\n",
    "$$\n",
    "j = tissues\n",
    "$$\n",
    "$$\n",
    "\\epsilon_{ij} = residuals\n",
    "$$"
   ]
  },
  {
   "cell_type": "code",
   "execution_count": null,
   "id": "014a8149",
   "metadata": {},
   "outputs": [],
   "source": [
    "model = smf.mixedlm(\"voltage_apd80 ~ dose\", Bay_K_RM, groups=Bay_K_RM[\"tissue_RM\"])\n",
    "\n",
    "mdf = model.fit()\n",
    "\n",
    "print(mdf.summary())"
   ]
  },
  {
   "cell_type": "code",
   "execution_count": null,
   "id": "6641774e",
   "metadata": {},
   "outputs": [],
   "source": [
    "model_Control = smf.mixedlm(\"voltage_apd80 ~ dose\", Control_RM, groups=Control_RM[\"tissue_RM\"])\n",
    "\n",
    "mdf_Control = model_Control.fit()\n",
    "\n",
    "print(mdf_Control.summary())"
   ]
  }
 ],
 "metadata": {
  "kernelspec": {
   "display_name": "Python 3 (ipykernel)",
   "language": "python",
   "name": "python3"
  },
  "language_info": {
   "codemirror_mode": {
    "name": "ipython",
    "version": 3
   },
   "file_extension": ".py",
   "mimetype": "text/x-python",
   "name": "python",
   "nbconvert_exporter": "python",
   "pygments_lexer": "ipython3",
   "version": "3.9.13"
  }
 },
 "nbformat": 4,
 "nbformat_minor": 5
}
