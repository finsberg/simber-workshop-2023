{
 "cells": [
  {
   "cell_type": "markdown",
   "id": "03522ac9",
   "metadata": {},
   "source": [
    "# Reading a recording using the `mps` package\n",
    "\n",
    "In this demo we will learn how to open a file an printing some basic info about the recording.\n",
    "\n",
    "First thing we need to do is to import the mps library"
   ]
  },
  {
   "cell_type": "code",
   "execution_count": null,
   "id": "264c5ad6",
   "metadata": {
    "tags": []
   },
   "outputs": [],
   "source": [
    "import mps"
   ]
  },
  {
   "cell_type": "markdown",
   "id": "4736fb49",
   "metadata": {},
   "source": [
    "Next thing we need to do is to specify the path to the file we want to open.\n",
    "If you have already have some data you can use that (in this case change the string below to the path to the file you want to open), otherwise you can download some sample data"
   ]
  },
  {
   "cell_type": "code",
   "execution_count": null,
   "id": "e1bafc0e",
   "metadata": {
    "lines_to_end_of_cell_marker": 2,
    "lines_to_next_cell": 2,
    "tags": []
   },
   "outputs": [],
   "source": [
    "from pathlib import Path\n",
    "\n",
    "path = Path(\"data.tif\")"
   ]
  },
  {
   "cell_type": "code",
   "execution_count": null,
   "id": "24aab489",
   "metadata": {
    "tags": []
   },
   "outputs": [],
   "source": [
    "def download_data():\n",
    "    print(\"Downloading data. Please wait...\")\n",
    "    link = \"https://www.dropbox.com/s/hwx1dp188rc6rnx/fl_data.npy?dl=1\"\n",
    "    import urllib.request\n",
    "    import time\n",
    "\n",
    "    urllib.request.urlretrieve(link, path)\n",
    "    time.sleep(1.0)\n",
    "    print(\"Done downloading data\")"
   ]
  },
  {
   "cell_type": "code",
   "execution_count": null,
   "id": "3513dbe3",
   "metadata": {
    "tags": []
   },
   "outputs": [],
   "source": [
    "# Download the data if file does not exist\n",
    "if not path.is_file():\n",
    "    download_data()"
   ]
  },
  {
   "cell_type": "markdown",
   "id": "1823d6f0",
   "metadata": {},
   "source": [
    "The `mps` pacakge can read various file formats including `.tif`, `.stk`, `.nd2` and `.czi`.\n",
    "\n",
    "Now let us load the data by passing the path the `mps.MPS` object"
   ]
  },
  {
   "cell_type": "code",
   "execution_count": null,
   "id": "c97169a6",
   "metadata": {
    "tags": []
   },
   "outputs": [],
   "source": [
    "data = mps.MPS(path)"
   ]
  },
  {
   "cell_type": "markdown",
   "id": "ce89f87f",
   "metadata": {},
   "source": [
    "This will create an object the allow us to read the recording as well as metadata stored within the file.\n",
    "\n",
    "Lets print the data object"
   ]
  },
  {
   "cell_type": "code",
   "execution_count": null,
   "id": "d943b698",
   "metadata": {
    "tags": []
   },
   "outputs": [],
   "source": [
    "print(\"data = \", data)"
   ]
  },
  {
   "cell_type": "markdown",
   "id": "8d8d2c39",
   "metadata": {},
   "source": [
    "We can aslo use a bit more convenient way to print this in python using f-strings"
   ]
  },
  {
   "cell_type": "code",
   "execution_count": null,
   "id": "3ccb5a33",
   "metadata": {
    "tags": []
   },
   "outputs": [],
   "source": [
    "print(f\"{data = }\")"
   ]
  },
  {
   "cell_type": "markdown",
   "id": "fc181af1",
   "metadata": {},
   "source": [
    "You can list the available methods on this object using the `dir` method\n",
    "And if you are working in a notebook you can also type `data.` and hit the `TAB` key."
   ]
  },
  {
   "cell_type": "code",
   "execution_count": null,
   "id": "95f0211e",
   "metadata": {
    "tags": []
   },
   "outputs": [],
   "source": [
    "print(f\"{dir(data) = }\")"
   ]
  },
  {
   "cell_type": "markdown",
   "id": "8bd59cf9",
   "metadata": {},
   "source": [
    "Now lets print the info attribute which will list some basic info about the data"
   ]
  },
  {
   "cell_type": "code",
   "execution_count": null,
   "id": "ec17cfbb",
   "metadata": {
    "tags": []
   },
   "outputs": [],
   "source": [
    "print(f\"{data.info = }\")"
   ]
  },
  {
   "cell_type": "markdown",
   "id": "7bebe14d",
   "metadata": {},
   "source": [
    "If you want a little bit nicer looking output you can also use the pretty printer in python"
   ]
  },
  {
   "cell_type": "code",
   "execution_count": null,
   "id": "5a3a445f",
   "metadata": {
    "tags": []
   },
   "outputs": [],
   "source": [
    "import pprint"
   ]
  },
  {
   "cell_type": "code",
   "execution_count": null,
   "id": "40d14033",
   "metadata": {
    "tags": []
   },
   "outputs": [],
   "source": [
    "pprint.pprint(data.info)"
   ]
  },
  {
   "cell_type": "markdown",
   "id": "408052b4",
   "metadata": {},
   "source": [
    "The actual frames are stored as the attribute `.frames`. This will be a numpy array of shape `(size_x, size_y, num_frames)`"
   ]
  },
  {
   "cell_type": "code",
   "execution_count": null,
   "id": "f1fd9a1f",
   "metadata": {
    "tags": []
   },
   "outputs": [],
   "source": [
    "print(f\"{data.frames.shape = }\")"
   ]
  },
  {
   "cell_type": "markdown",
   "id": "a7cfc4ec",
   "metadata": {},
   "source": [
    "The frames contains pixel intensities that are typically stored as 16-bits unsigned integers (uint16)"
   ]
  },
  {
   "cell_type": "code",
   "execution_count": null,
   "id": "030e9bd4",
   "metadata": {
    "tags": []
   },
   "outputs": [],
   "source": [
    "print(f\"{data.frames = }\")"
   ]
  },
  {
   "cell_type": "markdown",
   "id": "c49696b4",
   "metadata": {},
   "source": [
    "The time stamps are stored in the attribute `time_stamps` as a numpy array of length `num_frames`"
   ]
  },
  {
   "cell_type": "code",
   "execution_count": null,
   "id": "10f053e2",
   "metadata": {
    "tags": []
   },
   "outputs": [],
   "source": [
    "print(f\"{data.time_stamps.shape = }\")"
   ]
  },
  {
   "cell_type": "code",
   "execution_count": null,
   "id": "14491f2f",
   "metadata": {
    "tags": []
   },
   "outputs": [],
   "source": [
    "print(f\"{data.time_stamps = }\")"
   ]
  },
  {
   "cell_type": "markdown",
   "id": "503005b1",
   "metadata": {},
   "source": [
    "If the cells are paced then this information might be stored in the metadata of the recording. In this case this will be extracted in the attribute `pacing` which will also be a numpy array of length `num_frames`."
   ]
  },
  {
   "cell_type": "code",
   "execution_count": null,
   "id": "6fe7c61b",
   "metadata": {
    "tags": []
   },
   "outputs": [],
   "source": [
    "print(f\"{data.pacing.shape = }\")"
   ]
  },
  {
   "cell_type": "code",
   "execution_count": null,
   "id": "2f920728",
   "metadata": {
    "tags": []
   },
   "outputs": [],
   "source": [
    "print(f\"{data.pacing = }\")"
   ]
  },
  {
   "cell_type": "markdown",
   "id": "d27931c5",
   "metadata": {},
   "source": [
    "If the cell is not paced, or there is no information about the pacing stored within the recording, then this array will only contain zeros."
   ]
  }
 ],
 "metadata": {
  "jupytext": {
   "cell_metadata_filter": "-all",
   "main_language": "python",
   "notebook_metadata_filter": "-all"
  },
  "kernelspec": {
   "display_name": "Python 3 (ipykernel)",
   "language": "python",
   "name": "python3"
  },
  "language_info": {
   "codemirror_mode": {
    "name": "ipython",
    "version": 3
   },
   "file_extension": ".py",
   "mimetype": "text/x-python",
   "name": "python",
   "nbconvert_exporter": "python",
   "pygments_lexer": "ipython3",
   "version": "3.10.6"
  }
 },
 "nbformat": 4,
 "nbformat_minor": 5
}
