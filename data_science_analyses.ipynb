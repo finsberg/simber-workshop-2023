{
 "cells": [
  {
   "cell_type": "markdown",
   "id": "27e0cc7c-1b43-48ca-911f-8669ec54bace",
   "metadata": {},
   "source": [
    "# Advanced Data Science for MPS"
   ]
  },
  {
   "cell_type": "code",
   "execution_count": null,
   "id": "d442d54e-6331-4de4-8011-c2da170820b8",
   "metadata": {
    "tags": []
   },
   "outputs": [],
   "source": [
    "import pandas as pd\n",
    "import numpy as np\n",
    "import matplotlib.pyplot as plt\n",
    "from pathlib import Path\n",
    "from load_data_common import load_data\n",
    "import seaborn as sns\n",
    "import math\n",
    "\n",
    "from sklearn.decomposition import PCA\n",
    "from sklearn.cluster import KMeans\n",
    "from sklearn.neighbors import KNeighborsClassifier, KNeighborsRegressor\n",
    "from sklearn.model_selection import train_test_split, GridSearchCV, RandomizedSearchCV, RepeatedKFold, cross_val_score\n",
    "from sklearn.feature_selection import RFE\n",
    "from sklearn.metrics import classification_report, mean_squared_error, mean_absolute_error, r2_score\n",
    "\n",
    "%matplotlib inline\n",
    "plt.rcParams['font.sans-serif'] = \"Helvetica\"\n",
    "plt.rcParams['font.family'] = \"sans-serif\"\n",
    "plt.rcParams['font.size'] = 16\n",
    "plt.rcParams['savefig.facecolor'] = 'white'"
   ]
  },
  {
   "cell_type": "markdown",
   "id": "eb1aa0b2-d225-4587-9c81-d6c38a214c7b",
   "metadata": {},
   "source": [
    "## Import MPS data"
   ]
  },
  {
   "cell_type": "code",
   "execution_count": null,
   "id": "e4f91d0e-2926-491a-8b17-e238a42703c5",
   "metadata": {},
   "outputs": [],
   "source": [
    "path_to_data = Path(\"data_curated\")\n",
    "for p in path_to_data.iterdir():\n",
    "    print(p)\n",
    "    \n",
    "df_features = pd.read_csv(path_to_data.joinpath(\"features.csv\"), index_col=0)\n",
    "df_features.replace([\"0nM\", \"0uM\"], \"baseline\", inplace=True)\n",
    "df_features.sort_values([\"drug\", \"experiment\", \"well\", \"tissue\", \"dose\"], ascending=[True, True, True, True, False], inplace=True)\n",
    "drop_rows = np.where(pd.isnull(df_features[\"voltage_apd30\"])|\n",
    "                     pd.isnull(df_features[\"voltage_apd90\"])|\n",
    "                     pd.isnull(df_features[\"voltage_beating_frequencies\"])\n",
    "                    )\n",
    "df_features.drop(index=df_features.iloc[drop_rows].index.tolist(), inplace=True)\n",
    "df_features.reset_index(drop=True, inplace=True)\n",
    "\n",
    "df_traces = pd.read_csv(path_to_data.joinpath(\"traces_avg.csv\"), index_col=0)\n",
    "\n",
    "cols_array = [\"voltage_time\", \"voltage_trace\",\n",
    "              \"calcium_time\", \"calcium_trace\",\n",
    "              \"displacement_time\", \"displacement_trace\",\n",
    "              \"velocity_time\", \"velocity_trace\"]\n",
    "\n",
    "for col_name in cols_array:\n",
    "    df_traces[col_name] = df_traces[col_name].apply(eval)\n",
    "    df_traces[col_name] = df_traces[col_name].apply(lambda x: np.array(x, dtype=np.float32))\n",
    "\n",
    "print(f\"Number of items: {df_features.shape[0]}\")\n",
    "\n",
    "# convert dose strings to float\n",
    "unit_dict = {\"baseline\":0.0,\n",
    "             '0.1nM':0.1e-9, '1nM':1e-9, '10nM':10e-9, '100nM':100e-9, '1000nM':1000e-9, '10000nM':10000e-9,\n",
    "             '3nM':3e-9, '30nM':30e-9, '300nM':300e-9, '3000nM':3000e-9,\n",
    "             '3uM':3e-6, '30uM':30e-6, '0.3uM':0.3-6, '300uM':300e-6,\n",
    "             '1uM':1e-6, '10uM':10e-6, '100uM':100e-6, '0.1uM':0.1e-6,\n",
    "             '0.6%':0.0, '0.06%':0.0, '0.006%':0.0, '0.0006%':0.0\n",
    "            }\n",
    "\n",
    "df_features.insert(loc=5, column=\"dose_float\", value=[unit_dict[d] for d in df_features[\"dose\"]])"
   ]
  },
  {
   "cell_type": "code",
   "execution_count": null,
   "id": "22697428-f4e3-49ab-9a38-78539087cfab",
   "metadata": {},
   "outputs": [],
   "source": [
    "print(df_features.columns)"
   ]
  },
  {
   "cell_type": "code",
   "execution_count": null,
   "id": "7ddd82d4-a2aa-4c44-ac76-aaf4435f1e05",
   "metadata": {},
   "outputs": [],
   "source": [
    "features_of_interest = ['voltage_apd30', 'voltage_apd50', 'voltage_apd80', 'voltage_apd90',\n",
    "                       'calcium_apd30', 'calcium_apd50', 'calcium_apd80', 'calcium_apd90',\n",
    "                       'brightfield_Max contraction velocity [μm/s]', 'brightfield_Max relaxation velocity [μm/s]',\n",
    "                       'brightfield_Time between contraction and relaxation [ms]',\n",
    "                       'brightfield_Width at half height (displacement)[ms]']\n",
    "\n",
    "# find unique rows based on columns\n",
    "filter_names = [\"drug\", \"well\", \"tissue\"]\n",
    "dff = df_features[filter_names].drop_duplicates()\n",
    "\n",
    "df_norm = df_features.copy()\n",
    "\n",
    "idxs_drop = []\n",
    "for row in dff.itertuples():\n",
    "    idxs = np.where((df_norm[\"drug\"] == row.drug) & (df_norm[\"well\"] == row.well) & (df_norm[\"tissue\"] == row.tissue))[0]\n",
    "    try:\n",
    "        idx_bl = np.where((df_norm[\"drug\"]==row.drug) & (df_norm[\"well\"]==row.well) & (df_norm[\"tissue\"]==row.tissue) & (df_norm[\"dose\"]==\"baseline\"))\n",
    "        a = df_norm[features_of_interest].iloc[idxs].values   # dosed values\n",
    "        b = df_norm[features_of_interest].iloc[idx_bl].values # baseline values\n",
    "        df_norm.loc[idxs, features_of_interest] = np.divide(a, b)\n",
    "    except:\n",
    "        for i in idxs: idxs_drop.append(i)\n",
    "        continue\n",
    "df_norm.drop(idxs_drop, inplace=True)\n",
    "df_norm.reset_index(drop=True, inplace=True)\n"
   ]
  },
  {
   "cell_type": "markdown",
   "id": "71bcd38b-08ca-407d-93d9-970f5befadab",
   "metadata": {},
   "source": [
    "Filter dataframe by drug"
   ]
  },
  {
   "cell_type": "code",
   "execution_count": null,
   "id": "25088d10-fcec-4cee-8ffe-571ccf70fc96",
   "metadata": {},
   "outputs": [],
   "source": [
    "df_CisD7 = df_features[\n",
    "    (df_features[\"drug\"].values == \"Cisapride\")&(df_features[\"well\"].values == \"D7\")\n",
    "    ]"
   ]
  },
  {
   "cell_type": "markdown",
   "id": "60022791-50e8-4df5-b13b-5877d2f42516",
   "metadata": {},
   "source": [
    "## Import drug summary table"
   ]
  },
  {
   "cell_type": "code",
   "execution_count": null,
   "id": "02b32c8e-3ea5-4dd2-b49a-3f85d79a3714",
   "metadata": {},
   "outputs": [],
   "source": [
    "file_path = Path(\"drug_summary_ordinal.csv\")\n",
    "\n",
    "df_drug = pd.read_csv(file_path)\n",
    "\n",
    "key_ordinal = {0:\"no effect\",\n",
    "               1:\"mild increase\",\n",
    "               2:\"strong increase\",\n",
    "               3:\"mild decrease\",\n",
    "               4:\"strong decrease\"}\n",
    "\n",
    "key_binary = {0:\"no effect\",\n",
    "              1:\"observed\"}"
   ]
  },
  {
   "cell_type": "code",
   "execution_count": null,
   "id": "00f9862e-b628-434d-a627-5744b07cb9f8",
   "metadata": {},
   "outputs": [],
   "source": [
    "drug_mechanism = {\n",
    "    \"omecamtiv\":\"TnC agonist\",\n",
    "    \"Nifedipine\":\"L-type Ca block\",\n",
    "    \"Verapamil\":\"L-type Ca block, hERG block\",\n",
    "    \"Bay_K\":\"L-type Ca block\",\n",
    "    \"Dofetilide\":\"hERG block\",\n",
    "    \"Flecainide\":\"Fast Na block, hERG block, RyR block\",\n",
    "    \"Digoxin\":\"Na-K ATPase\",\n",
    "    \"dobutamine\":\"beta adrenergic blocker\",\n",
    "    \"carvedilol\":\"beta adrenergic blocker\",\n",
    "    \"blebbistatin\":\"myosin ATPase blocker\",\n",
    "    \"levosimendan\":\"potassium modulation, TnC agonist\",\n",
    "    \"milrinone\":\"beta adrenergic agonist\",\n",
    "    \"Isoproterenol\":\"beta adrenergic agonist\",\n",
    "    \"Alfuzosin\":\"alpha adrenergic block\",\n",
    "    \"Bepridil\":\"multi channel block\",\n",
    "    \"Cisapride\":\"hERG block\",\n",
    "    \"Terfenadine\":\"H1 receptor agonist\",\n",
    "    \"Control\":\"NA\", \n",
    "    \"aspirin\":\"NA\"\n",
    "}\n",
    "\n",
    "mechanism_list = list(set(drug_mechanism.values()))\n",
    "mechanism_class = {\n",
    "    mech:idx for mech,idx in zip(mechanism_list, range(len(mechanism_list)))\n",
    "}\n",
    "print(f\"Number of drug classes = {len(mechanism_class)}\")"
   ]
  },
  {
   "cell_type": "code",
   "execution_count": null,
   "id": "2002b22d-2dfb-4027-a113-50f81ceffcd9",
   "metadata": {},
   "outputs": [],
   "source": [
    "# check drugs are in drug_mechanism\n",
    "data_drugs = list(set(df_features.drug))\n",
    "check = np.any([d not in drug_mechanism for d in data_drugs])\n",
    "if check:\n",
    "    print(\"Oops! Some drugs from data are not in the drug mechanism list!\")\n",
    "else:\n",
    "    print(\"Looks good! All drugs are in list.\")"
   ]
  },
  {
   "cell_type": "markdown",
   "id": "47dc3264-7e8e-440e-a7b9-39271fcd449e",
   "metadata": {},
   "source": [
    "## Unsupervised clustering\n",
    "\n",
    "https://scikit-learn.org/stable/modules/generated/sklearn.cluster.KMeans.html"
   ]
  },
  {
   "cell_type": "code",
   "execution_count": null,
   "id": "5cfa3a05-0ca0-4b4d-b963-bdc1869028eb",
   "metadata": {},
   "outputs": [],
   "source": [
    "# Evaluate the variablitiy of baseline dose across all tissues and wells:\n",
    "# This establishes whether we need to do a paired effect as input or simply \n",
    "# use the values at multiple doses\n",
    "\n",
    "df_baseline = df_features[\n",
    "    (df_features[\"dose\"].values == \"baseline\")\n",
    "]\n",
    "\n",
    "apd80_baseline_mean = df_baseline[\"calcium_apd80\"].mean()\n",
    "apd80_baseline_std = df_baseline[\"calcium_apd80\"].std()\n",
    "\n",
    "print(f\"{apd80_baseline_mean = } ± {apd80_baseline_std}\")"
   ]
  },
  {
   "cell_type": "code",
   "execution_count": null,
   "id": "e810451c-7b63-4b8e-8b95-8ae32834f0be",
   "metadata": {},
   "outputs": [],
   "source": [
    "# my_features = [\"dose_float\", \"voltage_apd30\", \"voltage_apd60\", \"voltage_apd80\", \"voltage_apd90\"]\n",
    "my_features = features_of_interest\n",
    "\n",
    "df_X = df_norm[(df_norm[\"dose\"]!=\"baseline\")].dropna(inplace=False)\n",
    "X = df_X.loc[:, my_features]\n",
    "print(f\"Number of data points = {len(X)}\")\n",
    "\n",
    "n_clusters = 14\n",
    "kmeans = KMeans(n_clusters=n_clusters, random_state=0, n_init=\"auto\").fit(X)\n",
    "X_tf = kmeans.transform(X)"
   ]
  },
  {
   "cell_type": "markdown",
   "id": "91055fb8-14c6-4b90-90b1-be4e29cd4dda",
   "metadata": {},
   "source": [
    "***\n",
    "Now we compare the real drug name and class of mechanism to the assigned cluster labels\n",
    "***"
   ]
  },
  {
   "cell_type": "code",
   "execution_count": null,
   "id": "752ac169-f8c6-4976-90e2-666c7a9cb403",
   "metadata": {},
   "outputs": [],
   "source": [
    "drug_as_mechanism_class = [mechanism_class[drug_mechanism[d]] for d in df_X[\"drug\"].values]\n",
    "compare = [[d, mc, cc] for d,mc,cc in zip(df_X[\"drug\"].values, drug_as_mechanism_class, kmeans.labels_)]\n",
    "\n",
    "cluster_centers = kmeans.cluster_centers_\n",
    "cluster_dist = {f\"dist_c{i}\":X_tf[:,i] for i in range(n_clusters)}\n",
    "\n",
    "data = {\"drug\":df_X[\"drug\"], \n",
    "        \"mechanism\":[drug_mechanism[d] for d in df_X[\"drug\"].values],\n",
    "        \"mechanism_class\":drug_as_mechanism_class,\n",
    "        \"kmeans_label\":kmeans.labels_\n",
    "       }\n",
    "data = {**data, **cluster_dist}\n",
    "\n",
    "df_kmeans = pd.DataFrame(data=data)"
   ]
  },
  {
   "cell_type": "code",
   "execution_count": null,
   "id": "84db2740-9e7f-4b3c-bb25-b5106cb32411",
   "metadata": {},
   "outputs": [],
   "source": [
    "# Calculate distance between each cluster center\n",
    "cluster_dist_2d = np.zeros((n_clusters, n_clusters))\n",
    "for i in range(n_clusters):\n",
    "    for j in range(n_clusters):\n",
    "        cluster_dist_2d[i,j] = math.dist(cluster_centers[i], cluster_centers[j])"
   ]
  },
  {
   "cell_type": "markdown",
   "id": "723fb82b-f494-4f2d-919f-0df79775ecd4",
   "metadata": {},
   "source": [
    "Plot the frequency of each cluster for each drug"
   ]
  },
  {
   "cell_type": "code",
   "execution_count": null,
   "id": "6701d703-df21-4cd3-8d6a-dbd8e5b1735b",
   "metadata": {},
   "outputs": [],
   "source": [
    "test = pd.crosstab(df_kmeans[\"drug\"], df_kmeans[\"kmeans_label\"])\n",
    "sns.heatmap(data=test,\n",
    "           vmin=0,\n",
    "           vmax=22,\n",
    "           xticklabels=True,\n",
    "           yticklabels=True,\n",
    "           cbar=False)"
   ]
  },
  {
   "cell_type": "markdown",
   "id": "82bad267-6570-4c75-851f-a44509e38f5b",
   "metadata": {},
   "source": [
    "Plot the distance between each cluster center"
   ]
  },
  {
   "cell_type": "code",
   "execution_count": null,
   "id": "8658c4cb-a3a4-4bf3-b830-6d8fd4efd151",
   "metadata": {},
   "outputs": [],
   "source": [
    "# Calculate distance between each cluster center\n",
    "cluster_dist_2d = np.zeros((n_clusters, n_clusters))\n",
    "for i in range(n_clusters):\n",
    "    for j in range(n_clusters):\n",
    "        cluster_dist_2d[i,j] = math.dist(cluster_centers[i], cluster_centers[j])\n",
    "        \n",
    "g = sns.heatmap(cluster_dist_2d)\n",
    "g.set_xlabel(\"kmeans_label\")\n",
    "g.set_ylabel(\"kmeans_label\")\n",
    "g.set_title(\"Distance between kmeans clusters\")"
   ]
  },
  {
   "cell_type": "code",
   "execution_count": null,
   "id": "d7d2bec4-a471-470a-9752-1879eda7ca33",
   "metadata": {},
   "outputs": [],
   "source": [
    "\n",
    "plt.figure(figsize=(12,5))\n",
    "g = sns.violinplot(data=df_kmeans,\n",
    "                   x=\"drug\",\n",
    "                   y=\"kmeans_label\",\n",
    "                   scale=\"width\",\n",
    "                   bw=0.2\n",
    "                   # hue=\"kmeans_label\"\n",
    "                 )\n",
    "g.set_xticklabels(g.get_xticklabels(), rotation=45);"
   ]
  },
  {
   "cell_type": "markdown",
   "id": "e0412816-149c-4c87-b75c-2016617b06ac",
   "metadata": {},
   "source": [
    "***\n",
    "Examine cluster centers to see if "
   ]
  },
  {
   "cell_type": "markdown",
   "id": "a2e9f9a7-cd32-4170-887d-a44e8271d35f",
   "metadata": {},
   "source": [
    "## Dimensionality reduction"
   ]
  },
  {
   "cell_type": "code",
   "execution_count": null,
   "id": "8d2b9033-0fe7-4bb8-b316-d37d9dd99eb8",
   "metadata": {},
   "outputs": [],
   "source": [
    "# Dim reduction here"
   ]
  },
  {
   "cell_type": "markdown",
   "id": "dbd83973-5f0f-4c20-9576-05c8f6dc36b9",
   "metadata": {},
   "source": [
    "## Supervised learning"
   ]
  },
  {
   "cell_type": "markdown",
   "id": "18b3db42-d329-4945-b6d2-fea8682b6161",
   "metadata": {},
   "source": [
    "Unsupervised clustering is a great way to identify groups in data in an unbiased way, the goal of which is to see if data is naturally separable in a meaningful way.\n",
    "\n",
    "Supervised learning has a different goal: We seek to classify new data based on what we know about existing data."
   ]
  },
  {
   "cell_type": "code",
   "execution_count": null,
   "id": "1c47f9f2-f2ce-49b1-baed-548544ffafbe",
   "metadata": {},
   "outputs": [],
   "source": []
  }
 ],
 "metadata": {
  "kernelspec": {
   "display_name": "venv-simber-may23",
   "language": "python",
   "name": "venv-simber-may23"
  },
  "language_info": {
   "codemirror_mode": {
    "name": "ipython",
    "version": 3
   },
   "file_extension": ".py",
   "mimetype": "text/x-python",
   "name": "python",
   "nbconvert_exporter": "python",
   "pygments_lexer": "ipython3",
   "version": "3.10.6"
  }
 },
 "nbformat": 4,
 "nbformat_minor": 5
}
