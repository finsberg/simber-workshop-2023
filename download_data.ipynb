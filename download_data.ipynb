{
 "cells": [
  {
   "cell_type": "markdown",
   "id": "5d418afe",
   "metadata": {},
   "source": [
    "# Download data\n"
   ]
  },
  {
   "cell_type": "code",
   "execution_count": null,
   "id": "c03b1774-c807-4a50-919a-1dd3dc6c38d0",
   "metadata": {
    "tags": []
   },
   "outputs": [],
   "source": [
    "from pathlib import Path\n",
    "import mps_motion\n",
    "import urllib.request\n",
    "import time\n",
    "\n",
    "fl_data_path = Path(\"fl_data.npy\")\n",
    "bf_data_path = Path(\"motion_data.npy\")\n",
    "tpe_data_path = Path(\"tpe.npy\")\n",
    "\n",
    "def download_data(path, case):\n",
    "    \n",
    "    if case == \"fl\":\n",
    "        print(\"Downloading Flourescense data. Please wait...\")\n",
    "        link = \"https://www.dropbox.com/s/7piy9ghlv84nfg7/fl_data.npy?dl=1\"\n",
    "    elif case == \"tpe\":\n",
    "        print(\"Downloading TPE data. Please wait...\")\n",
    "        link = \"https://www.dropbox.com/s/qga5fi6xzt306f1/tpe.npy?dl=1\"\n",
    "    elif case == \"bf\":\n",
    "        print(\"Downloading Brightfield data. Please wait...\")\n",
    "        link = \"https://www.dropbox.com/s/kxnskaq9t0jhf88/motion_data.npy?dl=1\"\n",
    "    else:\n",
    "        raise ValueError(f\"Unknown case {case}. Expected 'fl', 'bf' or 'tpe'\")\n",
    "\n",
    "    urllib.request.urlretrieve(link, path)\n",
    "    time.sleep(1.0)\n",
    "    print(\"Done downloading data\")\n",
    "    \n",
    "if not fl_data_path.is_file():\n",
    "    download_data(fl_data_path, \"fl\")\n",
    "    \n",
    "if not bf_data_path.is_file():\n",
    "    download_data(bf_data_path, \"bf\")\n",
    "    \n",
    "if not tpe_data_path.is_file():\n",
    "    download_data(tpe_data_path, \"tpe\")\n",
    "\n",
    "print(\"All data is downloaded\")"
   ]
  },
  {
   "cell_type": "code",
   "execution_count": null,
   "id": "b9f0022a-255a-4f5a-9f34-10d952577ffa",
   "metadata": {},
   "outputs": [],
   "source": []
  }
 ],
 "metadata": {
  "jupytext": {
   "cell_metadata_filter": "-all",
   "main_language": "python",
   "notebook_metadata_filter": "-all"
  },
  "kernelspec": {
   "display_name": "Python 3 (ipykernel)",
   "language": "python",
   "name": "python3"
  },
  "language_info": {
   "codemirror_mode": {
    "name": "ipython",
    "version": 3
   },
   "file_extension": ".py",
   "mimetype": "text/x-python",
   "name": "python",
   "nbconvert_exporter": "python",
   "pygments_lexer": "ipython3",
   "version": "3.10.6"
  }
 },
 "nbformat": 4,
 "nbformat_minor": 5
}
