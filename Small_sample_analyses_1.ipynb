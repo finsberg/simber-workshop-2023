{
 "cells": [
  {
   "cell_type": "markdown",
   "id": "24d0cea8",
   "metadata": {},
   "source": [
    "## Step 1: The preliminaries\n",
    "### 1(a) Import the libraries "
   ]
  },
  {
   "cell_type": "code",
   "execution_count": null,
   "id": "289c253b",
   "metadata": {},
   "outputs": [],
   "source": [
    "import os\n",
    "import numpy as np\n",
    "import scipy\n",
    "import scipy.stats as stats\n",
    "import statsmodels.api as sm\n",
    "from statsmodels.formula.api import ols\n",
    "from statsmodels.stats.anova import AnovaRM\n",
    "import statsmodels.formula.api as smf\n",
    "import scikit_posthocs as sp\n",
    "import matplotlib.pyplot as plt\n",
    "import seaborn as sns"
   ]
  },
  {
   "cell_type": "markdown",
   "id": "dc8e2252",
   "metadata": {},
   "source": [
    "### 1(b) Load all the data"
   ]
  },
  {
   "cell_type": "code",
   "execution_count": null,
   "id": "c143bae3",
   "metadata": {},
   "outputs": [],
   "source": [
    "%run 'load_data_common.py'"
   ]
  },
  {
   "cell_type": "markdown",
   "id": "a708eecc",
   "metadata": {},
   "source": [
    "# First we are going to explore the datasets for 4 groups:  \n",
    "## (A) Control  \n",
    "## (B) Bay K8644  \n",
    "## (C) Verapamil\n",
    "## (D) Dofetilide"
   ]
  },
  {
   "cell_type": "code",
   "execution_count": null,
   "id": "f5f34595",
   "metadata": {},
   "outputs": [],
   "source": [
    "Control = df_features.loc[(df_features['drug'] == 'Control')]\n",
    "BayK = df_features.loc[(df_features['drug'] == 'Bay_K')]\n",
    "Verapamil = df_features.loc[(df_features['drug'] == 'Verapamil')] #& (df_features['dose'] != '10uM') & (df_features['dose'] != '100uM')  ]\n",
    "Dofetilide = df_features.loc[(df_features['drug'] == 'Dofetilide')]\n",
    "df_reduced = pd.concat([Control,BayK,Verapamil,Dofetilide])"
   ]
  },
  {
   "cell_type": "markdown",
   "id": "d330189b",
   "metadata": {},
   "source": [
    "# Let's take a look at their (all doses) distributions first - for a couple of APD metrics"
   ]
  },
  {
   "cell_type": "markdown",
   "id": "b2d9d1c7",
   "metadata": {},
   "source": [
    "## $APD_{80}$"
   ]
  },
  {
   "cell_type": "code",
   "execution_count": null,
   "id": "4cbd88b7",
   "metadata": {},
   "outputs": [],
   "source": [
    "sns.catplot(x='drug', y='voltage_apd80', data=df_reduced[['drug','voltage_apd80']], dodge=True, kind='violin', aspect=3)"
   ]
  },
  {
   "cell_type": "code",
   "execution_count": null,
   "id": "12a3ed5b",
   "metadata": {},
   "outputs": [],
   "source": [
    "sns.barplot(x = \"drug\", y = \"voltage_apd80\", data = df_reduced[['drug',\"voltage_apd80\"]], estimator = \"mean\", errorbar = 'se')"
   ]
  },
  {
   "cell_type": "markdown",
   "id": "348a3487",
   "metadata": {},
   "source": [
    "## $APD_{50}$"
   ]
  },
  {
   "cell_type": "code",
   "execution_count": null,
   "id": "7cf4bc50",
   "metadata": {},
   "outputs": [],
   "source": [
    "sns.catplot(x='drug', y='voltage_apd50', data=df_reduced[['drug','voltage_apd50']], dodge=True, kind='violin', aspect=3)"
   ]
  },
  {
   "cell_type": "markdown",
   "id": "45d77447",
   "metadata": {},
   "source": [
    "## $APD_{30}$"
   ]
  },
  {
   "cell_type": "code",
   "execution_count": null,
   "id": "110b4b01",
   "metadata": {},
   "outputs": [],
   "source": [
    "sns.catplot(x='drug', y='voltage_apd30', data=df_reduced[['drug','voltage_apd30']], dodge=True, kind='violin', aspect=3)"
   ]
  },
  {
   "cell_type": "markdown",
   "id": "8a79d3e6",
   "metadata": {},
   "source": [
    "# What can we say about these distributions?  \n",
    "## What explanations might you offer?"
   ]
  },
  {
   "cell_type": "code",
   "execution_count": null,
   "id": "4cbf6bcb",
   "metadata": {},
   "outputs": [],
   "source": [
    "Control.describe()"
   ]
  },
  {
   "cell_type": "code",
   "execution_count": null,
   "id": "7b403f5a",
   "metadata": {},
   "outputs": [],
   "source": [
    "BayK.describe()"
   ]
  },
  {
   "cell_type": "code",
   "execution_count": null,
   "id": "f9a60f5a",
   "metadata": {},
   "outputs": [],
   "source": [
    "Verapamil.describe()"
   ]
  },
  {
   "cell_type": "code",
   "execution_count": null,
   "id": "cbc85439",
   "metadata": {},
   "outputs": [],
   "source": [
    "Dofetilide.describe()"
   ]
  },
  {
   "cell_type": "markdown",
   "id": "dfbec581",
   "metadata": {},
   "source": [
    "# Is the variability in APD$_{90}$ for Bay K8644 and Verapamil due to dose?\n",
    "\n",
    "## Let's look at the Control distribution as a reference first"
   ]
  },
  {
   "cell_type": "code",
   "execution_count": null,
   "id": "7f6ee280",
   "metadata": {},
   "outputs": [],
   "source": [
    "Control['voltage_apd80'].plot(kind='kde', xlim=[0,3000], ylim=[0,0.02])\n",
    "plt.legend(['$APD_{90}$'], title='Control ')"
   ]
  },
  {
   "cell_type": "markdown",
   "id": "fac1ff02",
   "metadata": {},
   "source": [
    "## Bay K8644"
   ]
  },
  {
   "cell_type": "code",
   "execution_count": null,
   "id": "09cb7ae7",
   "metadata": {},
   "outputs": [],
   "source": [
    "BayK.groupby('dose')['voltage_apd80'].plot(kind='kde', xlim=[0,3000], ylim=[0,0.02])\n",
    "dose = ['1000nM','100nM','10nM','1nM','baseline']\n",
    "plt.legend(dose, title='Bay K8644 dose')"
   ]
  },
  {
   "cell_type": "markdown",
   "id": "72b5d011",
   "metadata": {},
   "source": [
    "## Verapamil"
   ]
  },
  {
   "cell_type": "code",
   "execution_count": null,
   "id": "6301ba88",
   "metadata": {},
   "outputs": [],
   "source": [
    "Verapamil.groupby('dose')['voltage_apd80'].plot(kind='kde', xlim=[0,3000], ylim=[0,0.04])\n",
    "dose = ['0.1uM','100uM','10uM','1uM','baseline']\n",
    "plt.legend(dose, title='Verapamil dose')"
   ]
  },
  {
   "cell_type": "markdown",
   "id": "2521b90c",
   "metadata": {},
   "source": [
    "## Dofetilide"
   ]
  },
  {
   "cell_type": "code",
   "execution_count": null,
   "id": "00df0bb3",
   "metadata": {},
   "outputs": [],
   "source": [
    "Dofetilide.groupby('dose')['voltage_apd80'].plot(kind='kde', xlim=[0,3000], ylim=[0,0.03])\n",
    "dose = ['0.1nM','100nM','10nM','1nM','baseline']\n",
    "plt.legend(dose, title='Dofetilide dose')"
   ]
  },
  {
   "cell_type": "markdown",
   "id": "252b0f2d",
   "metadata": {},
   "source": [
    "# Could some of these data qualify as statistical outliers?"
   ]
  },
  {
   "cell_type": "markdown",
   "id": "eda009c2",
   "metadata": {},
   "source": [
    "## Some tests to define outliers based on Gaussian assumptions"
   ]
  },
  {
   "cell_type": "markdown",
   "id": "9a1745df",
   "metadata": {},
   "source": [
    "## First let's take a look at the data without smoothing"
   ]
  },
  {
   "cell_type": "code",
   "execution_count": null,
   "id": "ad5a0d22",
   "metadata": {},
   "outputs": [],
   "source": [
    "Verapamil.groupby('dose')['voltage_apd80'].plot(kind='hist')\n",
    "dose = ['0.1uM','100uM','10uM','1uM','baseline']\n",
    "plt.legend(dose, title='Verapamil dose')"
   ]
  },
  {
   "cell_type": "markdown",
   "id": "3823ea04",
   "metadata": {},
   "source": [
    "### First let's set our $\\alpha$ threshold for all the tests:"
   ]
  },
  {
   "cell_type": "code",
   "execution_count": null,
   "id": "0846c5a8",
   "metadata": {},
   "outputs": [],
   "source": [
    "alpha = 0.05"
   ]
  },
  {
   "cell_type": "markdown",
   "id": "8235881c",
   "metadata": {},
   "source": [
    "### (1) Grubbs test (single outlier suspected) - can be used iteratively, but not best practice"
   ]
  },
  {
   "cell_type": "markdown",
   "id": "34f58445",
   "metadata": {},
   "source": [
    "#### Now see if any single data point qualifies in the 10 uM set "
   ]
  },
  {
   "cell_type": "code",
   "execution_count": null,
   "id": "fa08977f",
   "metadata": {},
   "outputs": [],
   "source": [
    "Verapamil_10um = Verapamil.loc[(Verapamil[\"dose\"] == \"10uM\")]\n",
    "Verapamil_10_for_outliers = Verapamil_10um[\"voltage_apd80\"].to_numpy()\n",
    "Verapamil_10_for_outliers = np.delete(Verapamil_10_for_outliers, [2,3,6]) # editing for parsing, remove if fixed\n",
    "print(\"\\nAll Verapamil data at 10 uM:\\n\",Verapamil_10_for_outliers)\n",
    "Grubbs_corrected = sp.outliers_grubbs(Verapamil_10_for_outliers, alpha = alpha)\n",
    "print(\"\\nData after correction for the Grubbs criterion are:\\n\",Grubbs_corrected)\n",
    "set_diff = np.setdiff1d(Verapamil_10_for_outliers, Grubbs_corrected)\n",
    "print(\"\\nThe excluded data are:\\n\", set_diff)"
   ]
  },
  {
   "cell_type": "code",
   "execution_count": null,
   "id": "49911f48",
   "metadata": {},
   "outputs": [],
   "source": [
    "Verapamil_100um = Verapamil.loc[(Verapamil[\"dose\"] == \"100uM\")]\n",
    "Verapamil_100_for_outliers = Verapamil_100um[\"voltage_apd80\"].to_numpy()\n",
    "Verapamil_100_for_outliers = np.delete(Verapamil_100_for_outliers, [7]) # editing for parsing, remove if fixed\n",
    "Verapamil_100_for_outliers = Verapamil_100_for_outliers[~np.isnan(Verapamil_100_for_outliers)]\n",
    "print(\"\\nAll Verapamil data at 100 uM:\\n\",Verapamil_100_for_outliers)\n",
    "Grubbs_corrected = sp.outliers_grubbs(Verapamil_100_for_outliers, alpha = alpha)\n",
    "print(\"\\nData after correction for the Grubbs criterion are:\\n\",Grubbs_corrected)\n",
    "set_diff = np.setdiff1d(Verapamil_100_for_outliers, Grubbs_corrected)\n",
    "print(\"\\nThe excluded data are:\\n\", set_diff)"
   ]
  },
  {
   "cell_type": "markdown",
   "id": "2205cf84",
   "metadata": {},
   "source": [
    "### (2) Tietjen-Moore test (specified number of outliers suspected)"
   ]
  },
  {
   "cell_type": "markdown",
   "id": "720c3049",
   "metadata": {},
   "source": [
    "#### See if it is possible to correct these datasets by choosing the right number of specified outliers (num_outliers).  \n",
    "#### Can you start by trying to identify the number in the histogram above? \n",
    "#### First for the 10 uM data"
   ]
  },
  {
   "cell_type": "code",
   "execution_count": null,
   "id": "dbe73b92",
   "metadata": {},
   "outputs": [],
   "source": [
    "num_outliers = 2\n",
    "\n",
    "print(\"\\nAll Verapamil data at 10 uM:\\n\",Verapamil_10_for_outliers)\n",
    "TM_10_corrected = sp.outliers_tietjen(Verapamil_10_for_outliers, num_outliers, alpha = alpha)\n",
    "print(\"\\nData after correction for the Tietjen-Moore criterion at n = (\",num_outliers,\") are:\\n\",TM_10_corrected)\n",
    "set_diff = np.setdiff1d(Verapamil_10_for_outliers, TM_10_corrected)\n",
    "print(\"\\nThe excluded data are:\\n\", set_diff)"
   ]
  },
  {
   "cell_type": "markdown",
   "id": "a37082d5",
   "metadata": {},
   "source": [
    "#### Now for 100 uM"
   ]
  },
  {
   "cell_type": "code",
   "execution_count": null,
   "id": "f93af88d",
   "metadata": {},
   "outputs": [],
   "source": [
    "num_outliers = 3\n",
    "\n",
    "print(\"\\nAll Verapamil data at 100 uM:\\n\",Verapamil_100_for_outliers)\n",
    "TM_100_corrected = sp.outliers_tietjen(Verapamil_100_for_outliers, num_outliers, alpha = alpha) \n",
    "print(\"\\nData after correction for the Tietjen-Moore criterion at n = (\",num_outliers,\") are:\\n\",TM_100_corrected)\n",
    "set_diff = np.setdiff1d(Verapamil_100_for_outliers, TM_100_corrected)\n",
    "print(\"\\nThe excluded data are:\\n\", set_diff)"
   ]
  },
  {
   "cell_type": "markdown",
   "id": "df281905",
   "metadata": {},
   "source": [
    "### (3) Extreme studentized deviate test (specified maximum number of outliers)  \n",
    "#### This test only assumes a specified maximum number of outliers"
   ]
  },
  {
   "cell_type": "code",
   "execution_count": null,
   "id": "bd027061",
   "metadata": {},
   "outputs": [],
   "source": [
    "max_outliers = 0\n",
    "\n",
    "print(\"\\nAll Verapamil data at 10 uM:\\n\",Verapamil_10_for_outliers,\"\\n\")\n",
    "GESD_10_corrected = sp.outliers_gesd(Verapamil_10_for_outliers,max_outliers)\n",
    "print(sp.outliers_gesd(Verapamil_10_for_outliers, outliers = max_outliers, alpha = alpha, report = True))\n",
    "print(\"\\nData after correction for up to n = (\",max_outliers,\") are:\\n\",GESD_10_corrected)\n",
    "set_diff = np.setdiff1d(Verapamil_10_for_outliers, GESD_10_corrected)\n",
    "print(\"\\nThe excluded data are:\\n\", set_diff)"
   ]
  },
  {
   "cell_type": "code",
   "execution_count": null,
   "id": "a387277c",
   "metadata": {},
   "outputs": [],
   "source": [
    "max_outliers = 0\n",
    "\n",
    "print(\"\\nAll Verapamil data at 100 uM:\\n\",Verapamil_100_for_outliers,\"\\n\")\n",
    "GESD_100_corrected = sp.outliers_gesd(Verapamil_100_for_outliers,max_outliers)\n",
    "print(sp.outliers_gesd(Verapamil_100_for_outliers, outliers = max_outliers, alpha = alpha, report = True))\n",
    "print(\"\\nData after correction for up to n = (\",max_outliers,\") are:\\n\",GESD_100_corrected)\n",
    "set_diff = np.setdiff1d(Verapamil_100_for_outliers, GESD_100_corrected)\n",
    "print(\"\\nThe excluded data are:\\n\", set_diff)"
   ]
  },
  {
   "cell_type": "markdown",
   "id": "a15694d0",
   "metadata": {},
   "source": [
    "## (4) What about classic z-score thresholding?  \n",
    "### How many standard deviations must you account for to remove the outlying data?"
   ]
  },
  {
   "cell_type": "code",
   "execution_count": null,
   "id": "25e4fecf",
   "metadata": {},
   "outputs": [],
   "source": [
    "z_thresh = 1.0\n",
    "\n",
    "print(\"\\nAll Verapamil data at 10 uM:\\n\",Verapamil_10_for_outliers)\n",
    "z = np.abs(stats.zscore(Verapamil_10_for_outliers))\n",
    "print(\"\\nAll Verapamil z-scores 10 uM:\\n\",z)\n",
    "z_10_corrected = Verapamil_10_for_outliers[(z<z_thresh)]\n",
    "print(\"\\nData after z >\", z_thresh, \"correction:\\n\", z_10_corrected)\n",
    "set_diff = np.setdiff1d(Verapamil_10_for_outliers, z_10_corrected)\n",
    "print(\"\\nThe excluded data are:\\n\", set_diff)"
   ]
  },
  {
   "cell_type": "markdown",
   "id": "4b4b779f",
   "metadata": {},
   "source": [
    "### What about non-parametric options?"
   ]
  },
  {
   "cell_type": "markdown",
   "id": "cb1f629f",
   "metadata": {},
   "source": [
    "### (4) Interquartile range discriminator"
   ]
  },
  {
   "cell_type": "code",
   "execution_count": null,
   "id": "b9068a95",
   "metadata": {},
   "outputs": [],
   "source": [
    "print(\"\\nAll Verapamil data at 10 uM:\\n\",Verapamil_10_for_outliers)\n",
    "threshold = 1.5\n",
    "IQR_10_corrected = sp.outliers_iqr(Verapamil_10_for_outliers, ret = 'filtered', coef = threshold)\n",
    "print(\"\\nData after IQR correction:\\n\",IQR_10_corrected)\n",
    "IQR_10_excluded = sp.outliers_iqr(Verapamil_10_for_outliers, ret = 'outliers', coef = threshold)\n",
    "print(\"\\nThe excluded data are:\\n\",IQR_10_excluded)"
   ]
  },
  {
   "cell_type": "code",
   "execution_count": null,
   "id": "2a5691c4",
   "metadata": {},
   "outputs": [],
   "source": [
    "print(\"\\nAll Verapamil data at 100 uM:\\n\",Verapamil_100_for_outliers)\n",
    "threshold = 1.5\n",
    "IQR_100_corrected = sp.outliers_iqr(Verapamil_100_for_outliers, ret = 'filtered', coef = threshold)\n",
    "print(\"\\nData after IQR correction:\\n\",IQR_100_corrected)\n",
    "IQR_100_excluded = sp.outliers_iqr(Verapamil_100_for_outliers, ret = 'outliers', coef = threshold)\n",
    "print(\"\\nThe excluded data are:\\n\",IQR_100_excluded)"
   ]
  },
  {
   "cell_type": "markdown",
   "id": "2c8224f6",
   "metadata": {},
   "source": [
    "## What do you conclude about these unbiased methods for data exclusion in the small-sample setting? "
   ]
  },
  {
   "cell_type": "code",
   "execution_count": null,
   "id": "6641774e",
   "metadata": {},
   "outputs": [],
   "source": []
  },
  {
   "cell_type": "code",
   "execution_count": null,
   "id": "226d626c",
   "metadata": {},
   "outputs": [],
   "source": []
  }
 ],
 "metadata": {
  "kernelspec": {
   "display_name": "Python 3 (ipykernel)",
   "language": "python",
   "name": "python3"
  },
  "language_info": {
   "codemirror_mode": {
    "name": "ipython",
    "version": 3
   },
   "file_extension": ".py",
   "mimetype": "text/x-python",
   "name": "python",
   "nbconvert_exporter": "python",
   "pygments_lexer": "ipython3",
   "version": "3.9.13"
  }
 },
 "nbformat": 4,
 "nbformat_minor": 5
}
